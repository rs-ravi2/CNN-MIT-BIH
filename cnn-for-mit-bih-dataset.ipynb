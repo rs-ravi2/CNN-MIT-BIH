{
 "cells": [
  {
   "cell_type": "markdown",
   "id": "542ea4f7",
   "metadata": {
    "id": "l5ha9JItDAIX",
    "papermill": {
     "duration": 0.039634,
     "end_time": "2022-01-20T05:06:22.186069",
     "exception": false,
     "start_time": "2022-01-20T05:06:22.146435",
     "status": "completed"
    },
    "tags": []
   },
   "source": [
    "**INTRODUCTION**\n",
    "\n",
    "In this notebook I predict different arrhythmia on the ECG. An Electro Cardio Gram (ECG) is a simple test that can can be used to check your heart rhythm and electrical activity.\n",
    "The dataset is composed of the heartbeat signals deerived from the MIT-BIH Arrhythmia Dataset which contains 48 half-hour excerpts of two-channel ECG ambulatory recordings.Out of which 23 were randomnly selected from the patients and remaining 25 were chosen to include  less common but clinically significant arrhythmias that would not be well-represented in a small random sample.\n",
    "\n"
   ]
  },
  {
   "cell_type": "code",
   "execution_count": 1,
   "id": "a39fe146",
   "metadata": {
    "execution": {
     "iopub.execute_input": "2022-01-20T05:06:22.277950Z",
     "iopub.status.busy": "2022-01-20T05:06:22.277189Z",
     "iopub.status.idle": "2022-01-20T05:06:27.697726Z",
     "shell.execute_reply": "2022-01-20T05:06:27.698133Z",
     "shell.execute_reply.started": "2022-01-20T05:00:20.588491Z"
    },
    "id": "rZz4EFWKv85_",
    "papermill": {
     "duration": 5.472251,
     "end_time": "2022-01-20T05:06:27.698428",
     "exception": false,
     "start_time": "2022-01-20T05:06:22.226177",
     "status": "completed"
    },
    "tags": []
   },
   "outputs": [],
   "source": [
    "# importing necessary libraries\n",
    "\n",
    "import numpy as np\n",
    "import pandas as pd\n",
    "import seaborn as sns\n",
    "import matplotlib.pyplot as plt\n",
    "from keras.models import Sequential\n",
    "from keras.layers import Dense # for fully connected layers dense will be used\n",
    "from keras.layers import Conv1D, MaxPooling1D, Flatten\n",
    "from tensorflow.keras.optimizers import Adam\n",
    "\n",
    "# avoid overfitting by normalizing the samples\n",
    "from tensorflow.keras.layers import BatchNormalization"
   ]
  },
  {
   "cell_type": "markdown",
   "id": "5be56288",
   "metadata": {
    "id": "xA4rEJdsFbXl",
    "papermill": {
     "duration": 0.03877,
     "end_time": "2022-01-20T05:06:27.776713",
     "exception": false,
     "start_time": "2022-01-20T05:06:27.737943",
     "status": "completed"
    },
    "tags": []
   },
   "source": [
    "### Arrhythmia Dataset\n",
    "\n"
   ]
  },
  {
   "cell_type": "markdown",
   "id": "99697842",
   "metadata": {
    "id": "iEnPdeG5fBDx",
    "papermill": {
     "duration": 0.038266,
     "end_time": "2022-01-20T05:06:27.853843",
     "exception": false,
     "start_time": "2022-01-20T05:06:27.815577",
     "status": "completed"
    },
    "tags": []
   },
   "source": [
    "**Number of Samples: 109446**\n",
    "\n",
    "**Number of Categories: 5**\n",
    "\n",
    "**Sampling Frequency: 125Hz**\n",
    "\n",
    "**Data Source: MIT-BIH Arrhythmia Dataset**\n",
    "\n",
    "**Classes: ['N' : 0, 'S' : 1, 'V' : 2, 'F' : 3, 'Q' : 4]**\n",
    "\n",
    "ECG are classified into these classes as labeled : \n",
    "*   N : Non-ecotic beats (normal beat) \n",
    "*   S : Supraventricular ectopic beats\n",
    "*   V : Ventricular ectopic beats\n",
    "*   F : Fusion Beats\n",
    "*   Q : Unknown Beats\n",
    "\n",
    "\n",
    "\n",
    " "
   ]
  },
  {
   "cell_type": "markdown",
   "id": "a3e85853",
   "metadata": {
    "id": "wjENAmS4aDF-",
    "papermill": {
     "duration": 0.038809,
     "end_time": "2022-01-20T05:06:27.930763",
     "exception": false,
     "start_time": "2022-01-20T05:06:27.891954",
     "status": "completed"
    },
    "tags": []
   },
   "source": [
    "**Loading Data**"
   ]
  },
  {
   "cell_type": "code",
   "execution_count": 2,
   "id": "796a3fcf",
   "metadata": {
    "execution": {
     "iopub.execute_input": "2022-01-20T05:06:28.015137Z",
     "iopub.status.busy": "2022-01-20T05:06:28.014587Z",
     "iopub.status.idle": "2022-01-20T05:06:37.567391Z",
     "shell.execute_reply": "2022-01-20T05:06:37.566897Z",
     "shell.execute_reply.started": "2022-01-20T05:00:26.432341Z"
    },
    "id": "gZi6Z9TzGSSt",
    "papermill": {
     "duration": 9.597033,
     "end_time": "2022-01-20T05:06:37.567529",
     "exception": false,
     "start_time": "2022-01-20T05:06:27.970496",
     "status": "completed"
    },
    "tags": []
   },
   "outputs": [],
   "source": [
    "# importing dataset from drive\n",
    "\n",
    "train_data = pd.read_csv(\"../input/heartbeat/mitbih_train.csv\", header=None)\n",
    "test_data = pd.read_csv(\"../input/heartbeat/mitbih_test.csv\", header=None)"
   ]
  },
  {
   "cell_type": "code",
   "execution_count": 3,
   "id": "ede3ba11",
   "metadata": {
    "execution": {
     "iopub.execute_input": "2022-01-20T05:06:37.652254Z",
     "iopub.status.busy": "2022-01-20T05:06:37.651097Z",
     "iopub.status.idle": "2022-01-20T05:06:37.692148Z",
     "shell.execute_reply": "2022-01-20T05:06:37.692593Z",
     "shell.execute_reply.started": "2022-01-20T05:00:35.687122Z"
    },
    "id": "ITTbLxHOGgZN",
    "outputId": "e928580a-fd37-4d36-9ef1-0902a8e8b6d0",
    "papermill": {
     "duration": 0.086531,
     "end_time": "2022-01-20T05:06:37.692725",
     "exception": false,
     "start_time": "2022-01-20T05:06:37.606194",
     "status": "completed"
    },
    "tags": []
   },
   "outputs": [
    {
     "data": {
      "text/html": [
       "<div>\n",
       "<style scoped>\n",
       "    .dataframe tbody tr th:only-of-type {\n",
       "        vertical-align: middle;\n",
       "    }\n",
       "\n",
       "    .dataframe tbody tr th {\n",
       "        vertical-align: top;\n",
       "    }\n",
       "\n",
       "    .dataframe thead th {\n",
       "        text-align: right;\n",
       "    }\n",
       "</style>\n",
       "<table border=\"1\" class=\"dataframe\">\n",
       "  <thead>\n",
       "    <tr style=\"text-align: right;\">\n",
       "      <th></th>\n",
       "      <th>0</th>\n",
       "      <th>1</th>\n",
       "      <th>2</th>\n",
       "      <th>3</th>\n",
       "      <th>4</th>\n",
       "      <th>5</th>\n",
       "      <th>6</th>\n",
       "      <th>7</th>\n",
       "      <th>8</th>\n",
       "      <th>9</th>\n",
       "      <th>...</th>\n",
       "      <th>178</th>\n",
       "      <th>179</th>\n",
       "      <th>180</th>\n",
       "      <th>181</th>\n",
       "      <th>182</th>\n",
       "      <th>183</th>\n",
       "      <th>184</th>\n",
       "      <th>185</th>\n",
       "      <th>186</th>\n",
       "      <th>187</th>\n",
       "    </tr>\n",
       "  </thead>\n",
       "  <tbody>\n",
       "    <tr>\n",
       "      <th>0</th>\n",
       "      <td>0.977941</td>\n",
       "      <td>0.926471</td>\n",
       "      <td>0.681373</td>\n",
       "      <td>0.245098</td>\n",
       "      <td>0.154412</td>\n",
       "      <td>0.191176</td>\n",
       "      <td>0.151961</td>\n",
       "      <td>0.085784</td>\n",
       "      <td>0.058824</td>\n",
       "      <td>0.049020</td>\n",
       "      <td>...</td>\n",
       "      <td>0.0</td>\n",
       "      <td>0.0</td>\n",
       "      <td>0.0</td>\n",
       "      <td>0.0</td>\n",
       "      <td>0.0</td>\n",
       "      <td>0.0</td>\n",
       "      <td>0.0</td>\n",
       "      <td>0.0</td>\n",
       "      <td>0.0</td>\n",
       "      <td>0.0</td>\n",
       "    </tr>\n",
       "    <tr>\n",
       "      <th>1</th>\n",
       "      <td>0.960114</td>\n",
       "      <td>0.863248</td>\n",
       "      <td>0.461538</td>\n",
       "      <td>0.196581</td>\n",
       "      <td>0.094017</td>\n",
       "      <td>0.125356</td>\n",
       "      <td>0.099715</td>\n",
       "      <td>0.088319</td>\n",
       "      <td>0.074074</td>\n",
       "      <td>0.082621</td>\n",
       "      <td>...</td>\n",
       "      <td>0.0</td>\n",
       "      <td>0.0</td>\n",
       "      <td>0.0</td>\n",
       "      <td>0.0</td>\n",
       "      <td>0.0</td>\n",
       "      <td>0.0</td>\n",
       "      <td>0.0</td>\n",
       "      <td>0.0</td>\n",
       "      <td>0.0</td>\n",
       "      <td>0.0</td>\n",
       "    </tr>\n",
       "    <tr>\n",
       "      <th>2</th>\n",
       "      <td>1.000000</td>\n",
       "      <td>0.659459</td>\n",
       "      <td>0.186486</td>\n",
       "      <td>0.070270</td>\n",
       "      <td>0.070270</td>\n",
       "      <td>0.059459</td>\n",
       "      <td>0.056757</td>\n",
       "      <td>0.043243</td>\n",
       "      <td>0.054054</td>\n",
       "      <td>0.045946</td>\n",
       "      <td>...</td>\n",
       "      <td>0.0</td>\n",
       "      <td>0.0</td>\n",
       "      <td>0.0</td>\n",
       "      <td>0.0</td>\n",
       "      <td>0.0</td>\n",
       "      <td>0.0</td>\n",
       "      <td>0.0</td>\n",
       "      <td>0.0</td>\n",
       "      <td>0.0</td>\n",
       "      <td>0.0</td>\n",
       "    </tr>\n",
       "    <tr>\n",
       "      <th>3</th>\n",
       "      <td>0.925414</td>\n",
       "      <td>0.665746</td>\n",
       "      <td>0.541436</td>\n",
       "      <td>0.276243</td>\n",
       "      <td>0.196133</td>\n",
       "      <td>0.077348</td>\n",
       "      <td>0.071823</td>\n",
       "      <td>0.060773</td>\n",
       "      <td>0.066298</td>\n",
       "      <td>0.058011</td>\n",
       "      <td>...</td>\n",
       "      <td>0.0</td>\n",
       "      <td>0.0</td>\n",
       "      <td>0.0</td>\n",
       "      <td>0.0</td>\n",
       "      <td>0.0</td>\n",
       "      <td>0.0</td>\n",
       "      <td>0.0</td>\n",
       "      <td>0.0</td>\n",
       "      <td>0.0</td>\n",
       "      <td>0.0</td>\n",
       "    </tr>\n",
       "    <tr>\n",
       "      <th>4</th>\n",
       "      <td>0.967136</td>\n",
       "      <td>1.000000</td>\n",
       "      <td>0.830986</td>\n",
       "      <td>0.586854</td>\n",
       "      <td>0.356808</td>\n",
       "      <td>0.248826</td>\n",
       "      <td>0.145540</td>\n",
       "      <td>0.089202</td>\n",
       "      <td>0.117371</td>\n",
       "      <td>0.150235</td>\n",
       "      <td>...</td>\n",
       "      <td>0.0</td>\n",
       "      <td>0.0</td>\n",
       "      <td>0.0</td>\n",
       "      <td>0.0</td>\n",
       "      <td>0.0</td>\n",
       "      <td>0.0</td>\n",
       "      <td>0.0</td>\n",
       "      <td>0.0</td>\n",
       "      <td>0.0</td>\n",
       "      <td>0.0</td>\n",
       "    </tr>\n",
       "    <tr>\n",
       "      <th>...</th>\n",
       "      <td>...</td>\n",
       "      <td>...</td>\n",
       "      <td>...</td>\n",
       "      <td>...</td>\n",
       "      <td>...</td>\n",
       "      <td>...</td>\n",
       "      <td>...</td>\n",
       "      <td>...</td>\n",
       "      <td>...</td>\n",
       "      <td>...</td>\n",
       "      <td>...</td>\n",
       "      <td>...</td>\n",
       "      <td>...</td>\n",
       "      <td>...</td>\n",
       "      <td>...</td>\n",
       "      <td>...</td>\n",
       "      <td>...</td>\n",
       "      <td>...</td>\n",
       "      <td>...</td>\n",
       "      <td>...</td>\n",
       "      <td>...</td>\n",
       "    </tr>\n",
       "    <tr>\n",
       "      <th>87549</th>\n",
       "      <td>0.807018</td>\n",
       "      <td>0.494737</td>\n",
       "      <td>0.536842</td>\n",
       "      <td>0.529825</td>\n",
       "      <td>0.491228</td>\n",
       "      <td>0.484211</td>\n",
       "      <td>0.456140</td>\n",
       "      <td>0.396491</td>\n",
       "      <td>0.284211</td>\n",
       "      <td>0.136842</td>\n",
       "      <td>...</td>\n",
       "      <td>0.0</td>\n",
       "      <td>0.0</td>\n",
       "      <td>0.0</td>\n",
       "      <td>0.0</td>\n",
       "      <td>0.0</td>\n",
       "      <td>0.0</td>\n",
       "      <td>0.0</td>\n",
       "      <td>0.0</td>\n",
       "      <td>0.0</td>\n",
       "      <td>4.0</td>\n",
       "    </tr>\n",
       "    <tr>\n",
       "      <th>87550</th>\n",
       "      <td>0.718333</td>\n",
       "      <td>0.605000</td>\n",
       "      <td>0.486667</td>\n",
       "      <td>0.361667</td>\n",
       "      <td>0.231667</td>\n",
       "      <td>0.120000</td>\n",
       "      <td>0.051667</td>\n",
       "      <td>0.001667</td>\n",
       "      <td>0.000000</td>\n",
       "      <td>0.013333</td>\n",
       "      <td>...</td>\n",
       "      <td>0.0</td>\n",
       "      <td>0.0</td>\n",
       "      <td>0.0</td>\n",
       "      <td>0.0</td>\n",
       "      <td>0.0</td>\n",
       "      <td>0.0</td>\n",
       "      <td>0.0</td>\n",
       "      <td>0.0</td>\n",
       "      <td>0.0</td>\n",
       "      <td>4.0</td>\n",
       "    </tr>\n",
       "    <tr>\n",
       "      <th>87551</th>\n",
       "      <td>0.906122</td>\n",
       "      <td>0.624490</td>\n",
       "      <td>0.595918</td>\n",
       "      <td>0.575510</td>\n",
       "      <td>0.530612</td>\n",
       "      <td>0.481633</td>\n",
       "      <td>0.444898</td>\n",
       "      <td>0.387755</td>\n",
       "      <td>0.322449</td>\n",
       "      <td>0.191837</td>\n",
       "      <td>...</td>\n",
       "      <td>0.0</td>\n",
       "      <td>0.0</td>\n",
       "      <td>0.0</td>\n",
       "      <td>0.0</td>\n",
       "      <td>0.0</td>\n",
       "      <td>0.0</td>\n",
       "      <td>0.0</td>\n",
       "      <td>0.0</td>\n",
       "      <td>0.0</td>\n",
       "      <td>4.0</td>\n",
       "    </tr>\n",
       "    <tr>\n",
       "      <th>87552</th>\n",
       "      <td>0.858228</td>\n",
       "      <td>0.645570</td>\n",
       "      <td>0.845570</td>\n",
       "      <td>0.248101</td>\n",
       "      <td>0.167089</td>\n",
       "      <td>0.131646</td>\n",
       "      <td>0.121519</td>\n",
       "      <td>0.121519</td>\n",
       "      <td>0.118987</td>\n",
       "      <td>0.103797</td>\n",
       "      <td>...</td>\n",
       "      <td>0.0</td>\n",
       "      <td>0.0</td>\n",
       "      <td>0.0</td>\n",
       "      <td>0.0</td>\n",
       "      <td>0.0</td>\n",
       "      <td>0.0</td>\n",
       "      <td>0.0</td>\n",
       "      <td>0.0</td>\n",
       "      <td>0.0</td>\n",
       "      <td>4.0</td>\n",
       "    </tr>\n",
       "    <tr>\n",
       "      <th>87553</th>\n",
       "      <td>0.901506</td>\n",
       "      <td>0.845886</td>\n",
       "      <td>0.800695</td>\n",
       "      <td>0.748552</td>\n",
       "      <td>0.687138</td>\n",
       "      <td>0.599073</td>\n",
       "      <td>0.512167</td>\n",
       "      <td>0.427578</td>\n",
       "      <td>0.395133</td>\n",
       "      <td>0.402086</td>\n",
       "      <td>...</td>\n",
       "      <td>0.0</td>\n",
       "      <td>0.0</td>\n",
       "      <td>0.0</td>\n",
       "      <td>0.0</td>\n",
       "      <td>0.0</td>\n",
       "      <td>0.0</td>\n",
       "      <td>0.0</td>\n",
       "      <td>0.0</td>\n",
       "      <td>0.0</td>\n",
       "      <td>4.0</td>\n",
       "    </tr>\n",
       "  </tbody>\n",
       "</table>\n",
       "<p>87554 rows × 188 columns</p>\n",
       "</div>"
      ],
      "text/plain": [
       "            0         1         2         3         4         5         6    \\\n",
       "0      0.977941  0.926471  0.681373  0.245098  0.154412  0.191176  0.151961   \n",
       "1      0.960114  0.863248  0.461538  0.196581  0.094017  0.125356  0.099715   \n",
       "2      1.000000  0.659459  0.186486  0.070270  0.070270  0.059459  0.056757   \n",
       "3      0.925414  0.665746  0.541436  0.276243  0.196133  0.077348  0.071823   \n",
       "4      0.967136  1.000000  0.830986  0.586854  0.356808  0.248826  0.145540   \n",
       "...         ...       ...       ...       ...       ...       ...       ...   \n",
       "87549  0.807018  0.494737  0.536842  0.529825  0.491228  0.484211  0.456140   \n",
       "87550  0.718333  0.605000  0.486667  0.361667  0.231667  0.120000  0.051667   \n",
       "87551  0.906122  0.624490  0.595918  0.575510  0.530612  0.481633  0.444898   \n",
       "87552  0.858228  0.645570  0.845570  0.248101  0.167089  0.131646  0.121519   \n",
       "87553  0.901506  0.845886  0.800695  0.748552  0.687138  0.599073  0.512167   \n",
       "\n",
       "            7         8         9    ...  178  179  180  181  182  183  184  \\\n",
       "0      0.085784  0.058824  0.049020  ...  0.0  0.0  0.0  0.0  0.0  0.0  0.0   \n",
       "1      0.088319  0.074074  0.082621  ...  0.0  0.0  0.0  0.0  0.0  0.0  0.0   \n",
       "2      0.043243  0.054054  0.045946  ...  0.0  0.0  0.0  0.0  0.0  0.0  0.0   \n",
       "3      0.060773  0.066298  0.058011  ...  0.0  0.0  0.0  0.0  0.0  0.0  0.0   \n",
       "4      0.089202  0.117371  0.150235  ...  0.0  0.0  0.0  0.0  0.0  0.0  0.0   \n",
       "...         ...       ...       ...  ...  ...  ...  ...  ...  ...  ...  ...   \n",
       "87549  0.396491  0.284211  0.136842  ...  0.0  0.0  0.0  0.0  0.0  0.0  0.0   \n",
       "87550  0.001667  0.000000  0.013333  ...  0.0  0.0  0.0  0.0  0.0  0.0  0.0   \n",
       "87551  0.387755  0.322449  0.191837  ...  0.0  0.0  0.0  0.0  0.0  0.0  0.0   \n",
       "87552  0.121519  0.118987  0.103797  ...  0.0  0.0  0.0  0.0  0.0  0.0  0.0   \n",
       "87553  0.427578  0.395133  0.402086  ...  0.0  0.0  0.0  0.0  0.0  0.0  0.0   \n",
       "\n",
       "       185  186  187  \n",
       "0      0.0  0.0  0.0  \n",
       "1      0.0  0.0  0.0  \n",
       "2      0.0  0.0  0.0  \n",
       "3      0.0  0.0  0.0  \n",
       "4      0.0  0.0  0.0  \n",
       "...    ...  ...  ...  \n",
       "87549  0.0  0.0  4.0  \n",
       "87550  0.0  0.0  4.0  \n",
       "87551  0.0  0.0  4.0  \n",
       "87552  0.0  0.0  4.0  \n",
       "87553  0.0  0.0  4.0  \n",
       "\n",
       "[87554 rows x 188 columns]"
      ]
     },
     "execution_count": 3,
     "metadata": {},
     "output_type": "execute_result"
    }
   ],
   "source": [
    "train_data"
   ]
  },
  {
   "cell_type": "markdown",
   "id": "67137357",
   "metadata": {
    "id": "hkh7IiYRSmho",
    "papermill": {
     "duration": 0.038646,
     "end_time": "2022-01-20T05:06:37.770814",
     "exception": false,
     "start_time": "2022-01-20T05:06:37.732168",
     "status": "completed"
    },
    "tags": []
   },
   "source": [
    "**Exploratory Data Analysis**"
   ]
  },
  {
   "cell_type": "code",
   "execution_count": 4,
   "id": "dbdbb0ef",
   "metadata": {
    "execution": {
     "iopub.execute_input": "2022-01-20T05:06:37.853083Z",
     "iopub.status.busy": "2022-01-20T05:06:37.851991Z",
     "iopub.status.idle": "2022-01-20T05:06:37.885209Z",
     "shell.execute_reply": "2022-01-20T05:06:37.885648Z",
     "shell.execute_reply.started": "2022-01-20T05:00:35.759209Z"
    },
    "id": "49F4fzRQJuso",
    "outputId": "49750fc2-b3c5-4c2e-ef7c-4c4ecc1c80a9",
    "papermill": {
     "duration": 0.07583,
     "end_time": "2022-01-20T05:06:37.885775",
     "exception": false,
     "start_time": "2022-01-20T05:06:37.809945",
     "status": "completed"
    },
    "tags": []
   },
   "outputs": [
    {
     "data": {
      "text/plain": [
       "0      0\n",
       "1      0\n",
       "2      0\n",
       "3      0\n",
       "4      0\n",
       "      ..\n",
       "183    0\n",
       "184    0\n",
       "185    0\n",
       "186    0\n",
       "187    0\n",
       "Length: 188, dtype: int64"
      ]
     },
     "execution_count": 4,
     "metadata": {},
     "output_type": "execute_result"
    }
   ],
   "source": [
    "# checking null values\n",
    "train_data.isnull().sum()"
   ]
  },
  {
   "cell_type": "markdown",
   "id": "1781e55b",
   "metadata": {
    "id": "djBd_G5xJ3H9",
    "papermill": {
     "duration": 0.038851,
     "end_time": "2022-01-20T05:06:37.963836",
     "exception": false,
     "start_time": "2022-01-20T05:06:37.924985",
     "status": "completed"
    },
    "tags": []
   },
   "source": [
    "Since data doesn't contain any null values, we can move further"
   ]
  },
  {
   "cell_type": "code",
   "execution_count": 5,
   "id": "2d80c4c5",
   "metadata": {
    "execution": {
     "iopub.execute_input": "2022-01-20T05:06:38.048857Z",
     "iopub.status.busy": "2022-01-20T05:06:38.048341Z",
     "iopub.status.idle": "2022-01-20T05:06:38.054144Z",
     "shell.execute_reply": "2022-01-20T05:06:38.053714Z",
     "shell.execute_reply.started": "2022-01-20T05:00:35.810261Z"
    },
    "id": "4kgu7BO3S1ZP",
    "outputId": "760ec9f8-6440-42f5-84eb-3471ba62a7dd",
    "papermill": {
     "duration": 0.051104,
     "end_time": "2022-01-20T05:06:38.054270",
     "exception": false,
     "start_time": "2022-01-20T05:06:38.003166",
     "status": "completed"
    },
    "tags": []
   },
   "outputs": [
    {
     "data": {
      "text/plain": [
       "array([0., 1., 2., 3., 4.])"
      ]
     },
     "execution_count": 5,
     "metadata": {},
     "output_type": "execute_result"
    }
   ],
   "source": [
    "train_data.iloc[:, 187].unique()"
   ]
  },
  {
   "cell_type": "code",
   "execution_count": 6,
   "id": "41967a21",
   "metadata": {
    "execution": {
     "iopub.execute_input": "2022-01-20T05:06:38.140453Z",
     "iopub.status.busy": "2022-01-20T05:06:38.139352Z",
     "iopub.status.idle": "2022-01-20T05:06:38.189161Z",
     "shell.execute_reply": "2022-01-20T05:06:38.189621Z",
     "shell.execute_reply.started": "2022-01-20T05:00:35.826259Z"
    },
    "id": "gosVQS4qS5di",
    "papermill": {
     "duration": 0.095808,
     "end_time": "2022-01-20T05:06:38.189787",
     "exception": false,
     "start_time": "2022-01-20T05:06:38.093979",
     "status": "completed"
    },
    "tags": []
   },
   "outputs": [],
   "source": [
    "# casting into int\n",
    "train_data[187] = train_data[187].astype('int')\n",
    "test_data[187] = test_data[187].astype('int') "
   ]
  },
  {
   "cell_type": "code",
   "execution_count": 7,
   "id": "d8fe92f2",
   "metadata": {
    "execution": {
     "iopub.execute_input": "2022-01-20T05:06:38.274108Z",
     "iopub.status.busy": "2022-01-20T05:06:38.273322Z",
     "iopub.status.idle": "2022-01-20T05:06:38.656719Z",
     "shell.execute_reply": "2022-01-20T05:06:38.656176Z",
     "shell.execute_reply.started": "2022-01-20T05:00:35.900961Z"
    },
    "id": "ob5OuJ37TAx3",
    "outputId": "a79bedc7-d379-42e6-fb89-d61b179ce76a",
    "papermill": {
     "duration": 0.427207,
     "end_time": "2022-01-20T05:06:38.656858",
     "exception": false,
     "start_time": "2022-01-20T05:06:38.229651",
     "status": "completed"
    },
    "tags": []
   },
   "outputs": [
    {
     "data": {
      "text/plain": [
       "<seaborn.axisgrid.FacetGrid at 0x7fbd5dd7afd0>"
      ]
     },
     "execution_count": 7,
     "metadata": {},
     "output_type": "execute_result"
    },
    {
     "data": {
      "image/png": "[encoded data removed]",
      "text/plain": [
       "<Figure size 360x360 with 1 Axes>"
      ]
     },
     "metadata": {
      "needs_background": "light"
     },
     "output_type": "display_data"
    }
   ],
   "source": [
    "# Display counts of each classes - Most of Data samples are of normal HeartBeats & its a biased data\n",
    "sns.catplot(x = 187, kind = 'count', data = train_data)"
   ]
  },
  {
   "cell_type": "code",
   "execution_count": 8,
   "id": "ed55fd41",
   "metadata": {
    "execution": {
     "iopub.execute_input": "2022-01-20T05:06:38.756902Z",
     "iopub.status.busy": "2022-01-20T05:06:38.755503Z",
     "iopub.status.idle": "2022-01-20T05:06:38.797449Z",
     "shell.execute_reply": "2022-01-20T05:06:38.797924Z",
     "shell.execute_reply.started": "2022-01-20T05:00:36.336148Z"
    },
    "id": "wbBqtLVWBEHi",
    "outputId": "c835a646-9260-486e-80a0-c00876acf483",
    "papermill": {
     "duration": 0.095762,
     "end_time": "2022-01-20T05:06:38.798082",
     "exception": false,
     "start_time": "2022-01-20T05:06:38.702320",
     "status": "completed"
    },
    "tags": []
   },
   "outputs": [
    {
     "data": {
      "text/html": [
       "<div>\n",
       "<style scoped>\n",
       "    .dataframe tbody tr th:only-of-type {\n",
       "        vertical-align: middle;\n",
       "    }\n",
       "\n",
       "    .dataframe tbody tr th {\n",
       "        vertical-align: top;\n",
       "    }\n",
       "\n",
       "    .dataframe thead th {\n",
       "        text-align: right;\n",
       "    }\n",
       "</style>\n",
       "<table border=\"1\" class=\"dataframe\">\n",
       "  <thead>\n",
       "    <tr style=\"text-align: right;\">\n",
       "      <th></th>\n",
       "      <th>0</th>\n",
       "      <th>1</th>\n",
       "      <th>2</th>\n",
       "      <th>3</th>\n",
       "      <th>4</th>\n",
       "      <th>5</th>\n",
       "      <th>6</th>\n",
       "      <th>7</th>\n",
       "      <th>8</th>\n",
       "      <th>9</th>\n",
       "      <th>...</th>\n",
       "      <th>178</th>\n",
       "      <th>179</th>\n",
       "      <th>180</th>\n",
       "      <th>181</th>\n",
       "      <th>182</th>\n",
       "      <th>183</th>\n",
       "      <th>184</th>\n",
       "      <th>185</th>\n",
       "      <th>186</th>\n",
       "      <th>187</th>\n",
       "    </tr>\n",
       "  </thead>\n",
       "  <tbody>\n",
       "    <tr>\n",
       "      <th>0</th>\n",
       "      <td>0.977941</td>\n",
       "      <td>0.926471</td>\n",
       "      <td>0.681373</td>\n",
       "      <td>0.245098</td>\n",
       "      <td>0.154412</td>\n",
       "      <td>0.191176</td>\n",
       "      <td>0.151961</td>\n",
       "      <td>0.085784</td>\n",
       "      <td>0.058824</td>\n",
       "      <td>0.049020</td>\n",
       "      <td>...</td>\n",
       "      <td>0.0</td>\n",
       "      <td>0.0</td>\n",
       "      <td>0.0</td>\n",
       "      <td>0.0</td>\n",
       "      <td>0.0</td>\n",
       "      <td>0.0</td>\n",
       "      <td>0.0</td>\n",
       "      <td>0.0</td>\n",
       "      <td>0.0</td>\n",
       "      <td>0</td>\n",
       "    </tr>\n",
       "    <tr>\n",
       "      <th>1</th>\n",
       "      <td>0.960114</td>\n",
       "      <td>0.863248</td>\n",
       "      <td>0.461538</td>\n",
       "      <td>0.196581</td>\n",
       "      <td>0.094017</td>\n",
       "      <td>0.125356</td>\n",
       "      <td>0.099715</td>\n",
       "      <td>0.088319</td>\n",
       "      <td>0.074074</td>\n",
       "      <td>0.082621</td>\n",
       "      <td>...</td>\n",
       "      <td>0.0</td>\n",
       "      <td>0.0</td>\n",
       "      <td>0.0</td>\n",
       "      <td>0.0</td>\n",
       "      <td>0.0</td>\n",
       "      <td>0.0</td>\n",
       "      <td>0.0</td>\n",
       "      <td>0.0</td>\n",
       "      <td>0.0</td>\n",
       "      <td>0</td>\n",
       "    </tr>\n",
       "    <tr>\n",
       "      <th>2</th>\n",
       "      <td>1.000000</td>\n",
       "      <td>0.659459</td>\n",
       "      <td>0.186486</td>\n",
       "      <td>0.070270</td>\n",
       "      <td>0.070270</td>\n",
       "      <td>0.059459</td>\n",
       "      <td>0.056757</td>\n",
       "      <td>0.043243</td>\n",
       "      <td>0.054054</td>\n",
       "      <td>0.045946</td>\n",
       "      <td>...</td>\n",
       "      <td>0.0</td>\n",
       "      <td>0.0</td>\n",
       "      <td>0.0</td>\n",
       "      <td>0.0</td>\n",
       "      <td>0.0</td>\n",
       "      <td>0.0</td>\n",
       "      <td>0.0</td>\n",
       "      <td>0.0</td>\n",
       "      <td>0.0</td>\n",
       "      <td>0</td>\n",
       "    </tr>\n",
       "    <tr>\n",
       "      <th>3</th>\n",
       "      <td>0.925414</td>\n",
       "      <td>0.665746</td>\n",
       "      <td>0.541436</td>\n",
       "      <td>0.276243</td>\n",
       "      <td>0.196133</td>\n",
       "      <td>0.077348</td>\n",
       "      <td>0.071823</td>\n",
       "      <td>0.060773</td>\n",
       "      <td>0.066298</td>\n",
       "      <td>0.058011</td>\n",
       "      <td>...</td>\n",
       "      <td>0.0</td>\n",
       "      <td>0.0</td>\n",
       "      <td>0.0</td>\n",
       "      <td>0.0</td>\n",
       "      <td>0.0</td>\n",
       "      <td>0.0</td>\n",
       "      <td>0.0</td>\n",
       "      <td>0.0</td>\n",
       "      <td>0.0</td>\n",
       "      <td>0</td>\n",
       "    </tr>\n",
       "    <tr>\n",
       "      <th>4</th>\n",
       "      <td>0.967136</td>\n",
       "      <td>1.000000</td>\n",
       "      <td>0.830986</td>\n",
       "      <td>0.586854</td>\n",
       "      <td>0.356808</td>\n",
       "      <td>0.248826</td>\n",
       "      <td>0.145540</td>\n",
       "      <td>0.089202</td>\n",
       "      <td>0.117371</td>\n",
       "      <td>0.150235</td>\n",
       "      <td>...</td>\n",
       "      <td>0.0</td>\n",
       "      <td>0.0</td>\n",
       "      <td>0.0</td>\n",
       "      <td>0.0</td>\n",
       "      <td>0.0</td>\n",
       "      <td>0.0</td>\n",
       "      <td>0.0</td>\n",
       "      <td>0.0</td>\n",
       "      <td>0.0</td>\n",
       "      <td>0</td>\n",
       "    </tr>\n",
       "    <tr>\n",
       "      <th>...</th>\n",
       "      <td>...</td>\n",
       "      <td>...</td>\n",
       "      <td>...</td>\n",
       "      <td>...</td>\n",
       "      <td>...</td>\n",
       "      <td>...</td>\n",
       "      <td>...</td>\n",
       "      <td>...</td>\n",
       "      <td>...</td>\n",
       "      <td>...</td>\n",
       "      <td>...</td>\n",
       "      <td>...</td>\n",
       "      <td>...</td>\n",
       "      <td>...</td>\n",
       "      <td>...</td>\n",
       "      <td>...</td>\n",
       "      <td>...</td>\n",
       "      <td>...</td>\n",
       "      <td>...</td>\n",
       "      <td>...</td>\n",
       "      <td>...</td>\n",
       "    </tr>\n",
       "    <tr>\n",
       "      <th>87549</th>\n",
       "      <td>0.807018</td>\n",
       "      <td>0.494737</td>\n",
       "      <td>0.536842</td>\n",
       "      <td>0.529825</td>\n",
       "      <td>0.491228</td>\n",
       "      <td>0.484211</td>\n",
       "      <td>0.456140</td>\n",
       "      <td>0.396491</td>\n",
       "      <td>0.284211</td>\n",
       "      <td>0.136842</td>\n",
       "      <td>...</td>\n",
       "      <td>0.0</td>\n",
       "      <td>0.0</td>\n",
       "      <td>0.0</td>\n",
       "      <td>0.0</td>\n",
       "      <td>0.0</td>\n",
       "      <td>0.0</td>\n",
       "      <td>0.0</td>\n",
       "      <td>0.0</td>\n",
       "      <td>0.0</td>\n",
       "      <td>4</td>\n",
       "    </tr>\n",
       "    <tr>\n",
       "      <th>87550</th>\n",
       "      <td>0.718333</td>\n",
       "      <td>0.605000</td>\n",
       "      <td>0.486667</td>\n",
       "      <td>0.361667</td>\n",
       "      <td>0.231667</td>\n",
       "      <td>0.120000</td>\n",
       "      <td>0.051667</td>\n",
       "      <td>0.001667</td>\n",
       "      <td>0.000000</td>\n",
       "      <td>0.013333</td>\n",
       "      <td>...</td>\n",
       "      <td>0.0</td>\n",
       "      <td>0.0</td>\n",
       "      <td>0.0</td>\n",
       "      <td>0.0</td>\n",
       "      <td>0.0</td>\n",
       "      <td>0.0</td>\n",
       "      <td>0.0</td>\n",
       "      <td>0.0</td>\n",
       "      <td>0.0</td>\n",
       "      <td>4</td>\n",
       "    </tr>\n",
       "    <tr>\n",
       "      <th>87551</th>\n",
       "      <td>0.906122</td>\n",
       "      <td>0.624490</td>\n",
       "      <td>0.595918</td>\n",
       "      <td>0.575510</td>\n",
       "      <td>0.530612</td>\n",
       "      <td>0.481633</td>\n",
       "      <td>0.444898</td>\n",
       "      <td>0.387755</td>\n",
       "      <td>0.322449</td>\n",
       "      <td>0.191837</td>\n",
       "      <td>...</td>\n",
       "      <td>0.0</td>\n",
       "      <td>0.0</td>\n",
       "      <td>0.0</td>\n",
       "      <td>0.0</td>\n",
       "      <td>0.0</td>\n",
       "      <td>0.0</td>\n",
       "      <td>0.0</td>\n",
       "      <td>0.0</td>\n",
       "      <td>0.0</td>\n",
       "      <td>4</td>\n",
       "    </tr>\n",
       "    <tr>\n",
       "      <th>87552</th>\n",
       "      <td>0.858228</td>\n",
       "      <td>0.645570</td>\n",
       "      <td>0.845570</td>\n",
       "      <td>0.248101</td>\n",
       "      <td>0.167089</td>\n",
       "      <td>0.131646</td>\n",
       "      <td>0.121519</td>\n",
       "      <td>0.121519</td>\n",
       "      <td>0.118987</td>\n",
       "      <td>0.103797</td>\n",
       "      <td>...</td>\n",
       "      <td>0.0</td>\n",
       "      <td>0.0</td>\n",
       "      <td>0.0</td>\n",
       "      <td>0.0</td>\n",
       "      <td>0.0</td>\n",
       "      <td>0.0</td>\n",
       "      <td>0.0</td>\n",
       "      <td>0.0</td>\n",
       "      <td>0.0</td>\n",
       "      <td>4</td>\n",
       "    </tr>\n",
       "    <tr>\n",
       "      <th>87553</th>\n",
       "      <td>0.901506</td>\n",
       "      <td>0.845886</td>\n",
       "      <td>0.800695</td>\n",
       "      <td>0.748552</td>\n",
       "      <td>0.687138</td>\n",
       "      <td>0.599073</td>\n",
       "      <td>0.512167</td>\n",
       "      <td>0.427578</td>\n",
       "      <td>0.395133</td>\n",
       "      <td>0.402086</td>\n",
       "      <td>...</td>\n",
       "      <td>0.0</td>\n",
       "      <td>0.0</td>\n",
       "      <td>0.0</td>\n",
       "      <td>0.0</td>\n",
       "      <td>0.0</td>\n",
       "      <td>0.0</td>\n",
       "      <td>0.0</td>\n",
       "      <td>0.0</td>\n",
       "      <td>0.0</td>\n",
       "      <td>4</td>\n",
       "    </tr>\n",
       "  </tbody>\n",
       "</table>\n",
       "<p>87554 rows × 188 columns</p>\n",
       "</div>"
      ],
      "text/plain": [
       "            0         1         2         3         4         5         6    \\\n",
       "0      0.977941  0.926471  0.681373  0.245098  0.154412  0.191176  0.151961   \n",
       "1      0.960114  0.863248  0.461538  0.196581  0.094017  0.125356  0.099715   \n",
       "2      1.000000  0.659459  0.186486  0.070270  0.070270  0.059459  0.056757   \n",
       "3      0.925414  0.665746  0.541436  0.276243  0.196133  0.077348  0.071823   \n",
       "4      0.967136  1.000000  0.830986  0.586854  0.356808  0.248826  0.145540   \n",
       "...         ...       ...       ...       ...       ...       ...       ...   \n",
       "87549  0.807018  0.494737  0.536842  0.529825  0.491228  0.484211  0.456140   \n",
       "87550  0.718333  0.605000  0.486667  0.361667  0.231667  0.120000  0.051667   \n",
       "87551  0.906122  0.624490  0.595918  0.575510  0.530612  0.481633  0.444898   \n",
       "87552  0.858228  0.645570  0.845570  0.248101  0.167089  0.131646  0.121519   \n",
       "87553  0.901506  0.845886  0.800695  0.748552  0.687138  0.599073  0.512167   \n",
       "\n",
       "            7         8         9    ...  178  179  180  181  182  183  184  \\\n",
       "0      0.085784  0.058824  0.049020  ...  0.0  0.0  0.0  0.0  0.0  0.0  0.0   \n",
       "1      0.088319  0.074074  0.082621  ...  0.0  0.0  0.0  0.0  0.0  0.0  0.0   \n",
       "2      0.043243  0.054054  0.045946  ...  0.0  0.0  0.0  0.0  0.0  0.0  0.0   \n",
       "3      0.060773  0.066298  0.058011  ...  0.0  0.0  0.0  0.0  0.0  0.0  0.0   \n",
       "4      0.089202  0.117371  0.150235  ...  0.0  0.0  0.0  0.0  0.0  0.0  0.0   \n",
       "...         ...       ...       ...  ...  ...  ...  ...  ...  ...  ...  ...   \n",
       "87549  0.396491  0.284211  0.136842  ...  0.0  0.0  0.0  0.0  0.0  0.0  0.0   \n",
       "87550  0.001667  0.000000  0.013333  ...  0.0  0.0  0.0  0.0  0.0  0.0  0.0   \n",
       "87551  0.387755  0.322449  0.191837  ...  0.0  0.0  0.0  0.0  0.0  0.0  0.0   \n",
       "87552  0.121519  0.118987  0.103797  ...  0.0  0.0  0.0  0.0  0.0  0.0  0.0   \n",
       "87553  0.427578  0.395133  0.402086  ...  0.0  0.0  0.0  0.0  0.0  0.0  0.0   \n",
       "\n",
       "       185  186  187  \n",
       "0      0.0  0.0    0  \n",
       "1      0.0  0.0    0  \n",
       "2      0.0  0.0    0  \n",
       "3      0.0  0.0    0  \n",
       "4      0.0  0.0    0  \n",
       "...    ...  ...  ...  \n",
       "87549  0.0  0.0    4  \n",
       "87550  0.0  0.0    4  \n",
       "87551  0.0  0.0    4  \n",
       "87552  0.0  0.0    4  \n",
       "87553  0.0  0.0    4  \n",
       "\n",
       "[87554 rows x 188 columns]"
      ]
     },
     "execution_count": 8,
     "metadata": {},
     "output_type": "execute_result"
    }
   ],
   "source": [
    "train_data"
   ]
  },
  {
   "cell_type": "code",
   "execution_count": 9,
   "id": "1b2e70ca",
   "metadata": {
    "execution": {
     "iopub.execute_input": "2022-01-20T05:06:38.887121Z",
     "iopub.status.busy": "2022-01-20T05:06:38.886442Z",
     "iopub.status.idle": "2022-01-20T05:06:39.009829Z",
     "shell.execute_reply": "2022-01-20T05:06:39.010212Z",
     "shell.execute_reply.started": "2022-01-20T05:00:36.389953Z"
    },
    "id": "zV0H_a9ZTVm_",
    "outputId": "4c680edf-a3c8-4f5b-afb3-17cd4793591e",
    "papermill": {
     "duration": 0.170107,
     "end_time": "2022-01-20T05:06:39.010380",
     "exception": false,
     "start_time": "2022-01-20T05:06:38.840273",
     "status": "completed"
    },
    "tags": []
   },
   "outputs": [
    {
     "data": {
      "image/png": "[encoded data removed]",
      "text/plain": [
       "<Figure size 720x720 with 1 Axes>"
      ]
     },
     "metadata": {},
     "output_type": "display_data"
    }
   ],
   "source": [
    "plt.figure(figsize= (10,10))\n",
    "my_circle = plt.Circle((0,0), 0.7, color = 'white') \n",
    "plt.pie(train_data[187].value_counts(), labels=['Normal Beats','Unknown Beats','Ventricular ectopic beats','Supraventricular ectopic beats',\n",
    "                                                'Fusion Beats'], autopct = '%0.0f%%', colors = ['red','orange','blue','magenta','cyan'])\n",
    "p = plt.gcf()\n",
    "p.gca().add_artist(my_circle)\n",
    "plt.show()"
   ]
  },
  {
   "cell_type": "code",
   "execution_count": 10,
   "id": "7630aa13",
   "metadata": {
    "execution": {
     "iopub.execute_input": "2022-01-20T05:06:39.117966Z",
     "iopub.status.busy": "2022-01-20T05:06:39.111635Z",
     "iopub.status.idle": "2022-01-20T05:06:39.391865Z",
     "shell.execute_reply": "2022-01-20T05:06:39.391314Z",
     "shell.execute_reply.started": "2022-01-20T05:00:36.553724Z"
    },
    "id": "YGpudSuLTaOP",
    "outputId": "b4372ce3-7b49-496f-b82d-361fce94aa01",
    "papermill": {
     "duration": 0.336842,
     "end_time": "2022-01-20T05:06:39.391999",
     "exception": false,
     "start_time": "2022-01-20T05:06:39.055157",
     "status": "completed"
    },
    "tags": []
   },
   "outputs": [
    {
     "data": {
      "image/png": "[encoded data removed]",
      "text/plain": [
       "<Figure size 1440x576 with 1 Axes>"
      ]
     },
     "metadata": {},
     "output_type": "display_data"
    }
   ],
   "source": [
    "sns.set_style('whitegrid')\n",
    "plt.figure(figsize = (20,8))\n",
    "plt.plot(train_data.iloc[0, 0:187], color = 'red')\n",
    "plt.title(\"Normal Heartbeat\")\n",
    "plt.show()"
   ]
  },
  {
   "cell_type": "code",
   "execution_count": 11,
   "id": "774a7097",
   "metadata": {
    "execution": {
     "iopub.execute_input": "2022-01-20T05:06:39.484732Z",
     "iopub.status.busy": "2022-01-20T05:06:39.483908Z",
     "iopub.status.idle": "2022-01-20T05:06:39.493763Z",
     "shell.execute_reply": "2022-01-20T05:06:39.493299Z",
     "shell.execute_reply.started": "2022-01-20T05:00:36.820835Z"
    },
    "id": "yjZBQA0GTpLp",
    "papermill": {
     "duration": 0.057069,
     "end_time": "2022-01-20T05:06:39.493875",
     "exception": false,
     "start_time": "2022-01-20T05:06:39.436806",
     "status": "completed"
    },
    "tags": []
   },
   "outputs": [],
   "source": [
    "# Splitting data into Each Classes\n",
    "df_1 = train_data[train_data[187] == 1]\n",
    "df_2 = train_data[train_data[187] == 2]\n",
    "df_3 = train_data[train_data[187] == 3]\n",
    "df_4 = train_data[train_data[187] == 4]"
   ]
  },
  {
   "cell_type": "code",
   "execution_count": 12,
   "id": "b237c96a",
   "metadata": {
    "execution": {
     "iopub.execute_input": "2022-01-20T05:06:39.600642Z",
     "iopub.status.busy": "2022-01-20T05:06:39.598973Z",
     "iopub.status.idle": "2022-01-20T05:06:39.861825Z",
     "shell.execute_reply": "2022-01-20T05:06:39.862196Z",
     "shell.execute_reply.started": "2022-01-20T05:00:36.837246Z"
    },
    "id": "YXgZaDX5TxKP",
    "outputId": "2648d174-8598-492c-9347-ead07c6ad2ad",
    "papermill": {
     "duration": 0.324654,
     "end_time": "2022-01-20T05:06:39.862381",
     "exception": false,
     "start_time": "2022-01-20T05:06:39.537727",
     "status": "completed"
    },
    "tags": []
   },
   "outputs": [
    {
     "data": {
      "image/png": "[encoded data removed]",
      "text/plain": [
       "<Figure size 1440x576 with 1 Axes>"
      ]
     },
     "metadata": {},
     "output_type": "display_data"
    }
   ],
   "source": [
    "sns.set_style(\"whitegrid\")\n",
    "plt.figure(figsize=(20,8))\n",
    "plt.plot(train_data.iloc[0, 0:187], color = 'red', label = 'Normal Heart Beats')\n",
    "plt.plot(df_1.iloc[0, 0:187], color = 'blue', label = 'Supraventricular ectopic beats')\n",
    "plt.title(\"ECG Normal vs Supraventricular Ectopic Beats\", fontsize = 12)\n",
    "plt.xlabel(\"Time (in ms)\")\n",
    "plt.ylabel(\"Heart Beat Amplitude\")\n",
    "plt.legend()\n",
    "plt.show()"
   ]
  },
  {
   "cell_type": "code",
   "execution_count": 13,
   "id": "17ae5c9c",
   "metadata": {
    "execution": {
     "iopub.execute_input": "2022-01-20T05:06:39.960684Z",
     "iopub.status.busy": "2022-01-20T05:06:39.959879Z",
     "iopub.status.idle": "2022-01-20T05:06:40.226666Z",
     "shell.execute_reply": "2022-01-20T05:06:40.227142Z",
     "shell.execute_reply.started": "2022-01-20T05:00:37.153940Z"
    },
    "id": "69-4hDzLT9km",
    "outputId": "e181ff81-9557-4281-b4b5-7397c1ac6e12",
    "papermill": {
     "duration": 0.319819,
     "end_time": "2022-01-20T05:06:40.227324",
     "exception": false,
     "start_time": "2022-01-20T05:06:39.907505",
     "status": "completed"
    },
    "tags": []
   },
   "outputs": [
    {
     "data": {
      "image/png": "[encoded data removed]",
      "text/plain": [
       "<Figure size 1440x576 with 1 Axes>"
      ]
     },
     "metadata": {},
     "output_type": "display_data"
    }
   ],
   "source": [
    "sns.set_style(\"whitegrid\")\n",
    "plt.figure(figsize=(20,8))\n",
    "plt.plot(train_data.iloc[0, 0:187], color = 'red', label = 'Normal Heart Beats')\n",
    "plt.plot(df_2.iloc[0, 0:187], color = 'blue', label = 'Ventricular ectopic beats')\n",
    "plt.title(\"ECG Normal vs Ventricular Ectopic Beats\", fontsize = 12)\n",
    "plt.xlabel(\"Time (in ms)\")\n",
    "plt.ylabel(\"Heart Beat Amplitude\")\n",
    "plt.legend()\n",
    "plt.show()"
   ]
  },
  {
   "cell_type": "code",
   "execution_count": 14,
   "id": "4e9cbad3",
   "metadata": {
    "execution": {
     "iopub.execute_input": "2022-01-20T05:06:40.354858Z",
     "iopub.status.busy": "2022-01-20T05:06:40.351854Z",
     "iopub.status.idle": "2022-01-20T05:06:40.602936Z",
     "shell.execute_reply": "2022-01-20T05:06:40.603517Z",
     "shell.execute_reply.started": "2022-01-20T05:00:37.466587Z"
    },
    "id": "Nq6Uczh3UGd_",
    "outputId": "96403ef6-58d9-4e68-a333-43cfd28d05cf",
    "papermill": {
     "duration": 0.33022,
     "end_time": "2022-01-20T05:06:40.603680",
     "exception": false,
     "start_time": "2022-01-20T05:06:40.273460",
     "status": "completed"
    },
    "tags": []
   },
   "outputs": [
    {
     "data": {
      "image/png": "[encoded data removed]",
      "text/plain": [
       "<Figure size 1440x576 with 1 Axes>"
      ]
     },
     "metadata": {},
     "output_type": "display_data"
    }
   ],
   "source": [
    "sns.set_style(\"whitegrid\")\n",
    "plt.figure(figsize=(20,8))\n",
    "plt.plot(train_data.iloc[0, 0:187], color = 'red', label = 'Normal Heart Beats')\n",
    "plt.plot(df_3.iloc[0, 0:187], color = 'blue', label = 'Fusion beats')\n",
    "plt.title(\"ECG Normal vs Fusion Beats\", fontsize = 12)\n",
    "plt.xlabel(\"Time (in ms)\")\n",
    "plt.ylabel(\"Heart Beat Amplitude\")\n",
    "plt.legend()\n",
    "plt.show()"
   ]
  },
  {
   "cell_type": "markdown",
   "id": "0b84654c",
   "metadata": {
    "id": "yrtlCVHiUitu",
    "papermill": {
     "duration": 0.054418,
     "end_time": "2022-01-20T05:06:40.712892",
     "exception": false,
     "start_time": "2022-01-20T05:06:40.658474",
     "status": "completed"
    },
    "tags": []
   },
   "source": [
    "**Data Augmentation**\n",
    "\n",
    "*   Since data is biased we will upsample it\n",
    "\n",
    "\n"
   ]
  },
  {
   "cell_type": "code",
   "execution_count": 15,
   "id": "1bdde5c2",
   "metadata": {
    "execution": {
     "iopub.execute_input": "2022-01-20T05:06:40.825186Z",
     "iopub.status.busy": "2022-01-20T05:06:40.824551Z",
     "iopub.status.idle": "2022-01-20T05:06:40.948660Z",
     "shell.execute_reply": "2022-01-20T05:06:40.948125Z",
     "shell.execute_reply.started": "2022-01-20T05:00:37.769657Z"
    },
    "id": "7Ak_9tv0UzO3",
    "papermill": {
     "duration": 0.182293,
     "end_time": "2022-01-20T05:06:40.948789",
     "exception": false,
     "start_time": "2022-01-20T05:06:40.766496",
     "status": "completed"
    },
    "tags": []
   },
   "outputs": [],
   "source": [
    "from sklearn.utils import resample\n",
    "\n",
    "df_1_upsample = resample(df_1, n_samples = 20000, replace = True, random_state = 123)\n",
    "df_2_upsample = resample(df_2, n_samples = 20000, replace = True, random_state = 123)\n",
    "df_3_upsample = resample(df_3, n_samples = 20000, replace = True, random_state = 123)\n",
    "df_4_upsample = resample(df_4, n_samples = 20000, replace = True, random_state = 123)"
   ]
  },
  {
   "cell_type": "code",
   "execution_count": 16,
   "id": "996bdda2",
   "metadata": {
    "execution": {
     "iopub.execute_input": "2022-01-20T05:06:41.053690Z",
     "iopub.status.busy": "2022-01-20T05:06:41.052750Z",
     "iopub.status.idle": "2022-01-20T05:06:41.136106Z",
     "shell.execute_reply": "2022-01-20T05:06:41.135553Z",
     "shell.execute_reply.started": "2022-01-20T05:00:37.898644Z"
    },
    "id": "hLrXF_IjU1LP",
    "papermill": {
     "duration": 0.138398,
     "end_time": "2022-01-20T05:06:41.136265",
     "exception": false,
     "start_time": "2022-01-20T05:06:40.997867",
     "status": "completed"
    },
    "tags": []
   },
   "outputs": [],
   "source": [
    "# downsample the high number of counts in one class, select random samples 2000 samples from class 0 samples\n",
    "df_0 = train_data[train_data[187]==0].sample(n =20000, random_state=123)"
   ]
  },
  {
   "cell_type": "code",
   "execution_count": 17,
   "id": "2d7aa336",
   "metadata": {
    "execution": {
     "iopub.execute_input": "2022-01-20T05:06:41.240955Z",
     "iopub.status.busy": "2022-01-20T05:06:41.240419Z",
     "iopub.status.idle": "2022-01-20T05:06:41.299423Z",
     "shell.execute_reply": "2022-01-20T05:06:41.298791Z",
     "shell.execute_reply.started": "2022-01-20T05:00:37.987044Z"
    },
    "id": "8v35AHV2U3k_",
    "papermill": {
     "duration": 0.112519,
     "end_time": "2022-01-20T05:06:41.299555",
     "exception": false,
     "start_time": "2022-01-20T05:06:41.187036",
     "status": "completed"
    },
    "tags": []
   },
   "outputs": [],
   "source": [
    "# merge and all dataframes to create new train samples\n",
    "train_df = pd.concat([df_0, df_1_upsample, df_2_upsample, df_3_upsample, df_4_upsample])"
   ]
  },
  {
   "cell_type": "code",
   "execution_count": 18,
   "id": "446bdeea",
   "metadata": {
    "execution": {
     "iopub.execute_input": "2022-01-20T05:06:41.422307Z",
     "iopub.status.busy": "2022-01-20T05:06:41.419154Z",
     "iopub.status.idle": "2022-01-20T05:06:41.511833Z",
     "shell.execute_reply": "2022-01-20T05:06:41.512196Z",
     "shell.execute_reply.started": "2022-01-20T05:00:38.050053Z"
    },
    "id": "NSOagkQqU5in",
    "outputId": "e7ecab7c-ab15-4d7c-920c-6b259ad25fb4",
    "papermill": {
     "duration": 0.164354,
     "end_time": "2022-01-20T05:06:41.512393",
     "exception": false,
     "start_time": "2022-01-20T05:06:41.348039",
     "status": "completed"
    },
    "tags": []
   },
   "outputs": [
    {
     "data": {
      "image/png": "[encoded data removed]",
      "text/plain": [
       "<Figure size 720x720 with 1 Axes>"
      ]
     },
     "metadata": {},
     "output_type": "display_data"
    }
   ],
   "source": [
    "plt.figure(figsize= (10,10))\n",
    "my_circle = plt.Circle((0,0), 0.7, color = 'white') \n",
    "plt.pie(train_df[187].value_counts(), labels=['Normal Beats','Unknown Beats','Ventricular ectopic beats','Supraventricular ectopic beats', 'Fusion Beats'], \n",
    "        autopct = '%0.0f%%', colors = ['red','orange','blue','magenta','cyan'])\n",
    "p = plt.gcf()\n",
    "p.gca().add_artist(my_circle)\n",
    "plt.show()"
   ]
  },
  {
   "cell_type": "code",
   "execution_count": 19,
   "id": "f8902a86",
   "metadata": {
    "execution": {
     "iopub.execute_input": "2022-01-20T05:06:41.648699Z",
     "iopub.status.busy": "2022-01-20T05:06:41.647093Z",
     "iopub.status.idle": "2022-01-20T05:06:42.068730Z",
     "shell.execute_reply": "2022-01-20T05:06:42.069096Z",
     "shell.execute_reply.started": "2022-01-20T05:00:38.165821Z"
    },
    "id": "jGxnkjWrU9kH",
    "outputId": "8c7dfb56-e64f-4c53-b4c4-6fa85120e7df",
    "papermill": {
     "duration": 0.506577,
     "end_time": "2022-01-20T05:06:42.069259",
     "exception": false,
     "start_time": "2022-01-20T05:06:41.562682",
     "status": "completed"
    },
    "tags": []
   },
   "outputs": [
    {
     "data": {
      "text/plain": [
       "<seaborn.axisgrid.FacetGrid at 0x7fbd5d793690>"
      ]
     },
     "execution_count": 19,
     "metadata": {},
     "output_type": "execute_result"
    },
    {
     "data": {
      "image/png": "[encoded data removed]",
      "text/plain": [
       "<Figure size 360x360 with 1 Axes>"
      ]
     },
     "metadata": {},
     "output_type": "display_data"
    }
   ],
   "source": [
    "# Display counts of each classes - Most of Data samples are of normal HeartBeats & its a biased data\n",
    "sns.catplot(x = 187, kind = 'count', data = train_df)"
   ]
  },
  {
   "cell_type": "code",
   "execution_count": 20,
   "id": "5a632ef7",
   "metadata": {
    "execution": {
     "iopub.execute_input": "2022-01-20T05:06:42.179157Z",
     "iopub.status.busy": "2022-01-20T05:06:42.172378Z",
     "iopub.status.idle": "2022-01-20T05:06:42.216335Z",
     "shell.execute_reply": "2022-01-20T05:06:42.215885Z",
     "shell.execute_reply.started": "2022-01-20T05:00:38.602621Z"
    },
    "id": "myomfU6Ulisf",
    "outputId": "b96ba122-cdb3-4bb3-f70b-026107fa6533",
    "papermill": {
     "duration": 0.095955,
     "end_time": "2022-01-20T05:06:42.216451",
     "exception": false,
     "start_time": "2022-01-20T05:06:42.120496",
     "status": "completed"
    },
    "tags": []
   },
   "outputs": [
    {
     "data": {
      "text/html": [
       "<div>\n",
       "<style scoped>\n",
       "    .dataframe tbody tr th:only-of-type {\n",
       "        vertical-align: middle;\n",
       "    }\n",
       "\n",
       "    .dataframe tbody tr th {\n",
       "        vertical-align: top;\n",
       "    }\n",
       "\n",
       "    .dataframe thead th {\n",
       "        text-align: right;\n",
       "    }\n",
       "</style>\n",
       "<table border=\"1\" class=\"dataframe\">\n",
       "  <thead>\n",
       "    <tr style=\"text-align: right;\">\n",
       "      <th></th>\n",
       "      <th>0</th>\n",
       "      <th>1</th>\n",
       "      <th>2</th>\n",
       "      <th>3</th>\n",
       "      <th>4</th>\n",
       "      <th>5</th>\n",
       "      <th>6</th>\n",
       "      <th>7</th>\n",
       "      <th>8</th>\n",
       "      <th>9</th>\n",
       "      <th>...</th>\n",
       "      <th>178</th>\n",
       "      <th>179</th>\n",
       "      <th>180</th>\n",
       "      <th>181</th>\n",
       "      <th>182</th>\n",
       "      <th>183</th>\n",
       "      <th>184</th>\n",
       "      <th>185</th>\n",
       "      <th>186</th>\n",
       "      <th>187</th>\n",
       "    </tr>\n",
       "  </thead>\n",
       "  <tbody>\n",
       "    <tr>\n",
       "      <th>14967</th>\n",
       "      <td>1.000000</td>\n",
       "      <td>0.647702</td>\n",
       "      <td>0.039387</td>\n",
       "      <td>0.004376</td>\n",
       "      <td>0.102845</td>\n",
       "      <td>0.063457</td>\n",
       "      <td>0.067834</td>\n",
       "      <td>0.048140</td>\n",
       "      <td>0.045952</td>\n",
       "      <td>0.045952</td>\n",
       "      <td>...</td>\n",
       "      <td>0.0</td>\n",
       "      <td>0.0</td>\n",
       "      <td>0.0</td>\n",
       "      <td>0.0</td>\n",
       "      <td>0.0</td>\n",
       "      <td>0.0</td>\n",
       "      <td>0.0</td>\n",
       "      <td>0.0</td>\n",
       "      <td>0.0</td>\n",
       "      <td>0</td>\n",
       "    </tr>\n",
       "    <tr>\n",
       "      <th>71482</th>\n",
       "      <td>1.000000</td>\n",
       "      <td>0.946619</td>\n",
       "      <td>0.651246</td>\n",
       "      <td>0.330961</td>\n",
       "      <td>0.000000</td>\n",
       "      <td>0.067616</td>\n",
       "      <td>0.092527</td>\n",
       "      <td>0.163701</td>\n",
       "      <td>0.192171</td>\n",
       "      <td>0.177936</td>\n",
       "      <td>...</td>\n",
       "      <td>0.0</td>\n",
       "      <td>0.0</td>\n",
       "      <td>0.0</td>\n",
       "      <td>0.0</td>\n",
       "      <td>0.0</td>\n",
       "      <td>0.0</td>\n",
       "      <td>0.0</td>\n",
       "      <td>0.0</td>\n",
       "      <td>0.0</td>\n",
       "      <td>0</td>\n",
       "    </tr>\n",
       "    <tr>\n",
       "      <th>23543</th>\n",
       "      <td>1.000000</td>\n",
       "      <td>0.855967</td>\n",
       "      <td>0.302469</td>\n",
       "      <td>0.041152</td>\n",
       "      <td>0.185185</td>\n",
       "      <td>0.160494</td>\n",
       "      <td>0.098765</td>\n",
       "      <td>0.092593</td>\n",
       "      <td>0.109053</td>\n",
       "      <td>0.088477</td>\n",
       "      <td>...</td>\n",
       "      <td>0.0</td>\n",
       "      <td>0.0</td>\n",
       "      <td>0.0</td>\n",
       "      <td>0.0</td>\n",
       "      <td>0.0</td>\n",
       "      <td>0.0</td>\n",
       "      <td>0.0</td>\n",
       "      <td>0.0</td>\n",
       "      <td>0.0</td>\n",
       "      <td>0</td>\n",
       "    </tr>\n",
       "    <tr>\n",
       "      <th>9174</th>\n",
       "      <td>1.000000</td>\n",
       "      <td>0.838806</td>\n",
       "      <td>0.738806</td>\n",
       "      <td>0.641791</td>\n",
       "      <td>0.604478</td>\n",
       "      <td>0.583582</td>\n",
       "      <td>0.580597</td>\n",
       "      <td>0.580597</td>\n",
       "      <td>0.591045</td>\n",
       "      <td>0.577612</td>\n",
       "      <td>...</td>\n",
       "      <td>0.0</td>\n",
       "      <td>0.0</td>\n",
       "      <td>0.0</td>\n",
       "      <td>0.0</td>\n",
       "      <td>0.0</td>\n",
       "      <td>0.0</td>\n",
       "      <td>0.0</td>\n",
       "      <td>0.0</td>\n",
       "      <td>0.0</td>\n",
       "      <td>0</td>\n",
       "    </tr>\n",
       "    <tr>\n",
       "      <th>42319</th>\n",
       "      <td>1.000000</td>\n",
       "      <td>0.720257</td>\n",
       "      <td>0.019293</td>\n",
       "      <td>0.106109</td>\n",
       "      <td>0.073955</td>\n",
       "      <td>0.086817</td>\n",
       "      <td>0.070740</td>\n",
       "      <td>0.077170</td>\n",
       "      <td>0.070740</td>\n",
       "      <td>0.083601</td>\n",
       "      <td>...</td>\n",
       "      <td>0.0</td>\n",
       "      <td>0.0</td>\n",
       "      <td>0.0</td>\n",
       "      <td>0.0</td>\n",
       "      <td>0.0</td>\n",
       "      <td>0.0</td>\n",
       "      <td>0.0</td>\n",
       "      <td>0.0</td>\n",
       "      <td>0.0</td>\n",
       "      <td>0</td>\n",
       "    </tr>\n",
       "    <tr>\n",
       "      <th>...</th>\n",
       "      <td>...</td>\n",
       "      <td>...</td>\n",
       "      <td>...</td>\n",
       "      <td>...</td>\n",
       "      <td>...</td>\n",
       "      <td>...</td>\n",
       "      <td>...</td>\n",
       "      <td>...</td>\n",
       "      <td>...</td>\n",
       "      <td>...</td>\n",
       "      <td>...</td>\n",
       "      <td>...</td>\n",
       "      <td>...</td>\n",
       "      <td>...</td>\n",
       "      <td>...</td>\n",
       "      <td>...</td>\n",
       "      <td>...</td>\n",
       "      <td>...</td>\n",
       "      <td>...</td>\n",
       "      <td>...</td>\n",
       "      <td>...</td>\n",
       "    </tr>\n",
       "    <tr>\n",
       "      <th>86326</th>\n",
       "      <td>0.979769</td>\n",
       "      <td>0.765896</td>\n",
       "      <td>0.820809</td>\n",
       "      <td>0.274566</td>\n",
       "      <td>0.170520</td>\n",
       "      <td>0.150289</td>\n",
       "      <td>0.150289</td>\n",
       "      <td>0.147399</td>\n",
       "      <td>0.135838</td>\n",
       "      <td>0.130058</td>\n",
       "      <td>...</td>\n",
       "      <td>0.0</td>\n",
       "      <td>0.0</td>\n",
       "      <td>0.0</td>\n",
       "      <td>0.0</td>\n",
       "      <td>0.0</td>\n",
       "      <td>0.0</td>\n",
       "      <td>0.0</td>\n",
       "      <td>0.0</td>\n",
       "      <td>0.0</td>\n",
       "      <td>4</td>\n",
       "    </tr>\n",
       "    <tr>\n",
       "      <th>87200</th>\n",
       "      <td>0.701493</td>\n",
       "      <td>0.611940</td>\n",
       "      <td>0.510448</td>\n",
       "      <td>0.400000</td>\n",
       "      <td>0.282090</td>\n",
       "      <td>0.167164</td>\n",
       "      <td>0.092537</td>\n",
       "      <td>0.046269</td>\n",
       "      <td>0.050746</td>\n",
       "      <td>0.071642</td>\n",
       "      <td>...</td>\n",
       "      <td>0.0</td>\n",
       "      <td>0.0</td>\n",
       "      <td>0.0</td>\n",
       "      <td>0.0</td>\n",
       "      <td>0.0</td>\n",
       "      <td>0.0</td>\n",
       "      <td>0.0</td>\n",
       "      <td>0.0</td>\n",
       "      <td>0.0</td>\n",
       "      <td>4</td>\n",
       "    </tr>\n",
       "    <tr>\n",
       "      <th>83385</th>\n",
       "      <td>0.984660</td>\n",
       "      <td>0.934803</td>\n",
       "      <td>0.875360</td>\n",
       "      <td>0.802493</td>\n",
       "      <td>0.705657</td>\n",
       "      <td>0.593480</td>\n",
       "      <td>0.468840</td>\n",
       "      <td>0.371045</td>\n",
       "      <td>0.291467</td>\n",
       "      <td>0.220518</td>\n",
       "      <td>...</td>\n",
       "      <td>0.0</td>\n",
       "      <td>0.0</td>\n",
       "      <td>0.0</td>\n",
       "      <td>0.0</td>\n",
       "      <td>0.0</td>\n",
       "      <td>0.0</td>\n",
       "      <td>0.0</td>\n",
       "      <td>0.0</td>\n",
       "      <td>0.0</td>\n",
       "      <td>4</td>\n",
       "    </tr>\n",
       "    <tr>\n",
       "      <th>87507</th>\n",
       "      <td>0.925434</td>\n",
       "      <td>0.875383</td>\n",
       "      <td>0.812053</td>\n",
       "      <td>0.749745</td>\n",
       "      <td>0.660878</td>\n",
       "      <td>0.577120</td>\n",
       "      <td>0.451481</td>\n",
       "      <td>0.347293</td>\n",
       "      <td>0.241062</td>\n",
       "      <td>0.199183</td>\n",
       "      <td>...</td>\n",
       "      <td>0.0</td>\n",
       "      <td>0.0</td>\n",
       "      <td>0.0</td>\n",
       "      <td>0.0</td>\n",
       "      <td>0.0</td>\n",
       "      <td>0.0</td>\n",
       "      <td>0.0</td>\n",
       "      <td>0.0</td>\n",
       "      <td>0.0</td>\n",
       "      <td>4</td>\n",
       "    </tr>\n",
       "    <tr>\n",
       "      <th>82475</th>\n",
       "      <td>0.986287</td>\n",
       "      <td>0.937764</td>\n",
       "      <td>0.873418</td>\n",
       "      <td>0.816456</td>\n",
       "      <td>0.735232</td>\n",
       "      <td>0.626582</td>\n",
       "      <td>0.510549</td>\n",
       "      <td>0.408228</td>\n",
       "      <td>0.316456</td>\n",
       "      <td>0.263713</td>\n",
       "      <td>...</td>\n",
       "      <td>0.0</td>\n",
       "      <td>0.0</td>\n",
       "      <td>0.0</td>\n",
       "      <td>0.0</td>\n",
       "      <td>0.0</td>\n",
       "      <td>0.0</td>\n",
       "      <td>0.0</td>\n",
       "      <td>0.0</td>\n",
       "      <td>0.0</td>\n",
       "      <td>4</td>\n",
       "    </tr>\n",
       "  </tbody>\n",
       "</table>\n",
       "<p>100000 rows × 188 columns</p>\n",
       "</div>"
      ],
      "text/plain": [
       "            0         1         2         3         4         5         6    \\\n",
       "14967  1.000000  0.647702  0.039387  0.004376  0.102845  0.063457  0.067834   \n",
       "71482  1.000000  0.946619  0.651246  0.330961  0.000000  0.067616  0.092527   \n",
       "23543  1.000000  0.855967  0.302469  0.041152  0.185185  0.160494  0.098765   \n",
       "9174   1.000000  0.838806  0.738806  0.641791  0.604478  0.583582  0.580597   \n",
       "42319  1.000000  0.720257  0.019293  0.106109  0.073955  0.086817  0.070740   \n",
       "...         ...       ...       ...       ...       ...       ...       ...   \n",
       "86326  0.979769  0.765896  0.820809  0.274566  0.170520  0.150289  0.150289   \n",
       "87200  0.701493  0.611940  0.510448  0.400000  0.282090  0.167164  0.092537   \n",
       "83385  0.984660  0.934803  0.875360  0.802493  0.705657  0.593480  0.468840   \n",
       "87507  0.925434  0.875383  0.812053  0.749745  0.660878  0.577120  0.451481   \n",
       "82475  0.986287  0.937764  0.873418  0.816456  0.735232  0.626582  0.510549   \n",
       "\n",
       "            7         8         9    ...  178  179  180  181  182  183  184  \\\n",
       "14967  0.048140  0.045952  0.045952  ...  0.0  0.0  0.0  0.0  0.0  0.0  0.0   \n",
       "71482  0.163701  0.192171  0.177936  ...  0.0  0.0  0.0  0.0  0.0  0.0  0.0   \n",
       "23543  0.092593  0.109053  0.088477  ...  0.0  0.0  0.0  0.0  0.0  0.0  0.0   \n",
       "9174   0.580597  0.591045  0.577612  ...  0.0  0.0  0.0  0.0  0.0  0.0  0.0   \n",
       "42319  0.077170  0.070740  0.083601  ...  0.0  0.0  0.0  0.0  0.0  0.0  0.0   \n",
       "...         ...       ...       ...  ...  ...  ...  ...  ...  ...  ...  ...   \n",
       "86326  0.147399  0.135838  0.130058  ...  0.0  0.0  0.0  0.0  0.0  0.0  0.0   \n",
       "87200  0.046269  0.050746  0.071642  ...  0.0  0.0  0.0  0.0  0.0  0.0  0.0   \n",
       "83385  0.371045  0.291467  0.220518  ...  0.0  0.0  0.0  0.0  0.0  0.0  0.0   \n",
       "87507  0.347293  0.241062  0.199183  ...  0.0  0.0  0.0  0.0  0.0  0.0  0.0   \n",
       "82475  0.408228  0.316456  0.263713  ...  0.0  0.0  0.0  0.0  0.0  0.0  0.0   \n",
       "\n",
       "       185  186  187  \n",
       "14967  0.0  0.0    0  \n",
       "71482  0.0  0.0    0  \n",
       "23543  0.0  0.0    0  \n",
       "9174   0.0  0.0    0  \n",
       "42319  0.0  0.0    0  \n",
       "...    ...  ...  ...  \n",
       "86326  0.0  0.0    4  \n",
       "87200  0.0  0.0    4  \n",
       "83385  0.0  0.0    4  \n",
       "87507  0.0  0.0    4  \n",
       "82475  0.0  0.0    4  \n",
       "\n",
       "[100000 rows x 188 columns]"
      ]
     },
     "execution_count": 20,
     "metadata": {},
     "output_type": "execute_result"
    }
   ],
   "source": [
    "train_df"
   ]
  },
  {
   "cell_type": "code",
   "execution_count": 21,
   "id": "1b31136f",
   "metadata": {
    "execution": {
     "iopub.execute_input": "2022-01-20T05:06:42.323937Z",
     "iopub.status.busy": "2022-01-20T05:06:42.323075Z",
     "iopub.status.idle": "2022-01-20T05:06:42.353925Z",
     "shell.execute_reply": "2022-01-20T05:06:42.354355Z",
     "shell.execute_reply.started": "2022-01-20T05:00:38.650228Z"
    },
    "id": "hqw1bbl1l2Lo",
    "outputId": "eeda3250-8d78-44dd-a73e-00f38c49d547",
    "papermill": {
     "duration": 0.087474,
     "end_time": "2022-01-20T05:06:42.354484",
     "exception": false,
     "start_time": "2022-01-20T05:06:42.267010",
     "status": "completed"
    },
    "tags": []
   },
   "outputs": [
    {
     "data": {
      "text/html": [
       "<div>\n",
       "<style scoped>\n",
       "    .dataframe tbody tr th:only-of-type {\n",
       "        vertical-align: middle;\n",
       "    }\n",
       "\n",
       "    .dataframe tbody tr th {\n",
       "        vertical-align: top;\n",
       "    }\n",
       "\n",
       "    .dataframe thead th {\n",
       "        text-align: right;\n",
       "    }\n",
       "</style>\n",
       "<table border=\"1\" class=\"dataframe\">\n",
       "  <thead>\n",
       "    <tr style=\"text-align: right;\">\n",
       "      <th></th>\n",
       "      <th>0</th>\n",
       "      <th>1</th>\n",
       "      <th>2</th>\n",
       "      <th>3</th>\n",
       "      <th>4</th>\n",
       "      <th>5</th>\n",
       "      <th>6</th>\n",
       "      <th>7</th>\n",
       "      <th>8</th>\n",
       "      <th>9</th>\n",
       "      <th>...</th>\n",
       "      <th>178</th>\n",
       "      <th>179</th>\n",
       "      <th>180</th>\n",
       "      <th>181</th>\n",
       "      <th>182</th>\n",
       "      <th>183</th>\n",
       "      <th>184</th>\n",
       "      <th>185</th>\n",
       "      <th>186</th>\n",
       "      <th>187</th>\n",
       "    </tr>\n",
       "  </thead>\n",
       "  <tbody>\n",
       "    <tr>\n",
       "      <th>0</th>\n",
       "      <td>1.000000</td>\n",
       "      <td>0.758264</td>\n",
       "      <td>0.111570</td>\n",
       "      <td>0.000000</td>\n",
       "      <td>0.080579</td>\n",
       "      <td>0.078512</td>\n",
       "      <td>0.066116</td>\n",
       "      <td>0.049587</td>\n",
       "      <td>0.047521</td>\n",
       "      <td>0.035124</td>\n",
       "      <td>...</td>\n",
       "      <td>0.0</td>\n",
       "      <td>0.0</td>\n",
       "      <td>0.0</td>\n",
       "      <td>0.0</td>\n",
       "      <td>0.0</td>\n",
       "      <td>0.0</td>\n",
       "      <td>0.0</td>\n",
       "      <td>0.0</td>\n",
       "      <td>0.0</td>\n",
       "      <td>0</td>\n",
       "    </tr>\n",
       "    <tr>\n",
       "      <th>1</th>\n",
       "      <td>0.908425</td>\n",
       "      <td>0.783883</td>\n",
       "      <td>0.531136</td>\n",
       "      <td>0.362637</td>\n",
       "      <td>0.366300</td>\n",
       "      <td>0.344322</td>\n",
       "      <td>0.333333</td>\n",
       "      <td>0.307692</td>\n",
       "      <td>0.296703</td>\n",
       "      <td>0.300366</td>\n",
       "      <td>...</td>\n",
       "      <td>0.0</td>\n",
       "      <td>0.0</td>\n",
       "      <td>0.0</td>\n",
       "      <td>0.0</td>\n",
       "      <td>0.0</td>\n",
       "      <td>0.0</td>\n",
       "      <td>0.0</td>\n",
       "      <td>0.0</td>\n",
       "      <td>0.0</td>\n",
       "      <td>0</td>\n",
       "    </tr>\n",
       "    <tr>\n",
       "      <th>2</th>\n",
       "      <td>0.730088</td>\n",
       "      <td>0.212389</td>\n",
       "      <td>0.000000</td>\n",
       "      <td>0.119469</td>\n",
       "      <td>0.101770</td>\n",
       "      <td>0.101770</td>\n",
       "      <td>0.110619</td>\n",
       "      <td>0.123894</td>\n",
       "      <td>0.115044</td>\n",
       "      <td>0.132743</td>\n",
       "      <td>...</td>\n",
       "      <td>0.0</td>\n",
       "      <td>0.0</td>\n",
       "      <td>0.0</td>\n",
       "      <td>0.0</td>\n",
       "      <td>0.0</td>\n",
       "      <td>0.0</td>\n",
       "      <td>0.0</td>\n",
       "      <td>0.0</td>\n",
       "      <td>0.0</td>\n",
       "      <td>0</td>\n",
       "    </tr>\n",
       "    <tr>\n",
       "      <th>3</th>\n",
       "      <td>1.000000</td>\n",
       "      <td>0.910417</td>\n",
       "      <td>0.681250</td>\n",
       "      <td>0.472917</td>\n",
       "      <td>0.229167</td>\n",
       "      <td>0.068750</td>\n",
       "      <td>0.000000</td>\n",
       "      <td>0.004167</td>\n",
       "      <td>0.014583</td>\n",
       "      <td>0.054167</td>\n",
       "      <td>...</td>\n",
       "      <td>0.0</td>\n",
       "      <td>0.0</td>\n",
       "      <td>0.0</td>\n",
       "      <td>0.0</td>\n",
       "      <td>0.0</td>\n",
       "      <td>0.0</td>\n",
       "      <td>0.0</td>\n",
       "      <td>0.0</td>\n",
       "      <td>0.0</td>\n",
       "      <td>0</td>\n",
       "    </tr>\n",
       "    <tr>\n",
       "      <th>4</th>\n",
       "      <td>0.570470</td>\n",
       "      <td>0.399329</td>\n",
       "      <td>0.238255</td>\n",
       "      <td>0.147651</td>\n",
       "      <td>0.000000</td>\n",
       "      <td>0.003356</td>\n",
       "      <td>0.040268</td>\n",
       "      <td>0.080537</td>\n",
       "      <td>0.070470</td>\n",
       "      <td>0.090604</td>\n",
       "      <td>...</td>\n",
       "      <td>0.0</td>\n",
       "      <td>0.0</td>\n",
       "      <td>0.0</td>\n",
       "      <td>0.0</td>\n",
       "      <td>0.0</td>\n",
       "      <td>0.0</td>\n",
       "      <td>0.0</td>\n",
       "      <td>0.0</td>\n",
       "      <td>0.0</td>\n",
       "      <td>0</td>\n",
       "    </tr>\n",
       "    <tr>\n",
       "      <th>...</th>\n",
       "      <td>...</td>\n",
       "      <td>...</td>\n",
       "      <td>...</td>\n",
       "      <td>...</td>\n",
       "      <td>...</td>\n",
       "      <td>...</td>\n",
       "      <td>...</td>\n",
       "      <td>...</td>\n",
       "      <td>...</td>\n",
       "      <td>...</td>\n",
       "      <td>...</td>\n",
       "      <td>...</td>\n",
       "      <td>...</td>\n",
       "      <td>...</td>\n",
       "      <td>...</td>\n",
       "      <td>...</td>\n",
       "      <td>...</td>\n",
       "      <td>...</td>\n",
       "      <td>...</td>\n",
       "      <td>...</td>\n",
       "      <td>...</td>\n",
       "    </tr>\n",
       "    <tr>\n",
       "      <th>21887</th>\n",
       "      <td>0.928736</td>\n",
       "      <td>0.871264</td>\n",
       "      <td>0.804598</td>\n",
       "      <td>0.742529</td>\n",
       "      <td>0.650575</td>\n",
       "      <td>0.535632</td>\n",
       "      <td>0.394253</td>\n",
       "      <td>0.250575</td>\n",
       "      <td>0.140230</td>\n",
       "      <td>0.102299</td>\n",
       "      <td>...</td>\n",
       "      <td>0.0</td>\n",
       "      <td>0.0</td>\n",
       "      <td>0.0</td>\n",
       "      <td>0.0</td>\n",
       "      <td>0.0</td>\n",
       "      <td>0.0</td>\n",
       "      <td>0.0</td>\n",
       "      <td>0.0</td>\n",
       "      <td>0.0</td>\n",
       "      <td>4</td>\n",
       "    </tr>\n",
       "    <tr>\n",
       "      <th>21888</th>\n",
       "      <td>0.802691</td>\n",
       "      <td>0.692078</td>\n",
       "      <td>0.587444</td>\n",
       "      <td>0.446936</td>\n",
       "      <td>0.318386</td>\n",
       "      <td>0.189836</td>\n",
       "      <td>0.118087</td>\n",
       "      <td>0.077728</td>\n",
       "      <td>0.112108</td>\n",
       "      <td>0.152466</td>\n",
       "      <td>...</td>\n",
       "      <td>0.0</td>\n",
       "      <td>0.0</td>\n",
       "      <td>0.0</td>\n",
       "      <td>0.0</td>\n",
       "      <td>0.0</td>\n",
       "      <td>0.0</td>\n",
       "      <td>0.0</td>\n",
       "      <td>0.0</td>\n",
       "      <td>0.0</td>\n",
       "      <td>4</td>\n",
       "    </tr>\n",
       "    <tr>\n",
       "      <th>21889</th>\n",
       "      <td>1.000000</td>\n",
       "      <td>0.967359</td>\n",
       "      <td>0.620178</td>\n",
       "      <td>0.347181</td>\n",
       "      <td>0.139466</td>\n",
       "      <td>0.089021</td>\n",
       "      <td>0.103858</td>\n",
       "      <td>0.100890</td>\n",
       "      <td>0.106825</td>\n",
       "      <td>0.100890</td>\n",
       "      <td>...</td>\n",
       "      <td>0.0</td>\n",
       "      <td>0.0</td>\n",
       "      <td>0.0</td>\n",
       "      <td>0.0</td>\n",
       "      <td>0.0</td>\n",
       "      <td>0.0</td>\n",
       "      <td>0.0</td>\n",
       "      <td>0.0</td>\n",
       "      <td>0.0</td>\n",
       "      <td>4</td>\n",
       "    </tr>\n",
       "    <tr>\n",
       "      <th>21890</th>\n",
       "      <td>0.984127</td>\n",
       "      <td>0.567460</td>\n",
       "      <td>0.607143</td>\n",
       "      <td>0.583333</td>\n",
       "      <td>0.607143</td>\n",
       "      <td>0.575397</td>\n",
       "      <td>0.575397</td>\n",
       "      <td>0.488095</td>\n",
       "      <td>0.392857</td>\n",
       "      <td>0.238095</td>\n",
       "      <td>...</td>\n",
       "      <td>0.0</td>\n",
       "      <td>0.0</td>\n",
       "      <td>0.0</td>\n",
       "      <td>0.0</td>\n",
       "      <td>0.0</td>\n",
       "      <td>0.0</td>\n",
       "      <td>0.0</td>\n",
       "      <td>0.0</td>\n",
       "      <td>0.0</td>\n",
       "      <td>4</td>\n",
       "    </tr>\n",
       "    <tr>\n",
       "      <th>21891</th>\n",
       "      <td>0.973970</td>\n",
       "      <td>0.913232</td>\n",
       "      <td>0.865510</td>\n",
       "      <td>0.823210</td>\n",
       "      <td>0.746204</td>\n",
       "      <td>0.642082</td>\n",
       "      <td>0.547722</td>\n",
       "      <td>0.426247</td>\n",
       "      <td>0.325380</td>\n",
       "      <td>0.279826</td>\n",
       "      <td>...</td>\n",
       "      <td>0.0</td>\n",
       "      <td>0.0</td>\n",
       "      <td>0.0</td>\n",
       "      <td>0.0</td>\n",
       "      <td>0.0</td>\n",
       "      <td>0.0</td>\n",
       "      <td>0.0</td>\n",
       "      <td>0.0</td>\n",
       "      <td>0.0</td>\n",
       "      <td>4</td>\n",
       "    </tr>\n",
       "  </tbody>\n",
       "</table>\n",
       "<p>21892 rows × 188 columns</p>\n",
       "</div>"
      ],
      "text/plain": [
       "            0         1         2         3         4         5         6    \\\n",
       "0      1.000000  0.758264  0.111570  0.000000  0.080579  0.078512  0.066116   \n",
       "1      0.908425  0.783883  0.531136  0.362637  0.366300  0.344322  0.333333   \n",
       "2      0.730088  0.212389  0.000000  0.119469  0.101770  0.101770  0.110619   \n",
       "3      1.000000  0.910417  0.681250  0.472917  0.229167  0.068750  0.000000   \n",
       "4      0.570470  0.399329  0.238255  0.147651  0.000000  0.003356  0.040268   \n",
       "...         ...       ...       ...       ...       ...       ...       ...   \n",
       "21887  0.928736  0.871264  0.804598  0.742529  0.650575  0.535632  0.394253   \n",
       "21888  0.802691  0.692078  0.587444  0.446936  0.318386  0.189836  0.118087   \n",
       "21889  1.000000  0.967359  0.620178  0.347181  0.139466  0.089021  0.103858   \n",
       "21890  0.984127  0.567460  0.607143  0.583333  0.607143  0.575397  0.575397   \n",
       "21891  0.973970  0.913232  0.865510  0.823210  0.746204  0.642082  0.547722   \n",
       "\n",
       "            7         8         9    ...  178  179  180  181  182  183  184  \\\n",
       "0      0.049587  0.047521  0.035124  ...  0.0  0.0  0.0  0.0  0.0  0.0  0.0   \n",
       "1      0.307692  0.296703  0.300366  ...  0.0  0.0  0.0  0.0  0.0  0.0  0.0   \n",
       "2      0.123894  0.115044  0.132743  ...  0.0  0.0  0.0  0.0  0.0  0.0  0.0   \n",
       "3      0.004167  0.014583  0.054167  ...  0.0  0.0  0.0  0.0  0.0  0.0  0.0   \n",
       "4      0.080537  0.070470  0.090604  ...  0.0  0.0  0.0  0.0  0.0  0.0  0.0   \n",
       "...         ...       ...       ...  ...  ...  ...  ...  ...  ...  ...  ...   \n",
       "21887  0.250575  0.140230  0.102299  ...  0.0  0.0  0.0  0.0  0.0  0.0  0.0   \n",
       "21888  0.077728  0.112108  0.152466  ...  0.0  0.0  0.0  0.0  0.0  0.0  0.0   \n",
       "21889  0.100890  0.106825  0.100890  ...  0.0  0.0  0.0  0.0  0.0  0.0  0.0   \n",
       "21890  0.488095  0.392857  0.238095  ...  0.0  0.0  0.0  0.0  0.0  0.0  0.0   \n",
       "21891  0.426247  0.325380  0.279826  ...  0.0  0.0  0.0  0.0  0.0  0.0  0.0   \n",
       "\n",
       "       185  186  187  \n",
       "0      0.0  0.0    0  \n",
       "1      0.0  0.0    0  \n",
       "2      0.0  0.0    0  \n",
       "3      0.0  0.0    0  \n",
       "4      0.0  0.0    0  \n",
       "...    ...  ...  ...  \n",
       "21887  0.0  0.0    4  \n",
       "21888  0.0  0.0    4  \n",
       "21889  0.0  0.0    4  \n",
       "21890  0.0  0.0    4  \n",
       "21891  0.0  0.0    4  \n",
       "\n",
       "[21892 rows x 188 columns]"
      ]
     },
     "execution_count": 21,
     "metadata": {},
     "output_type": "execute_result"
    }
   ],
   "source": [
    "test_data"
   ]
  },
  {
   "cell_type": "markdown",
   "id": "7d9e51cf",
   "metadata": {
    "id": "d7Eh1Em7bVj1",
    "papermill": {
     "duration": 0.059305,
     "end_time": "2022-01-20T05:06:42.466676",
     "exception": false,
     "start_time": "2022-01-20T05:06:42.407371",
     "status": "completed"
    },
    "tags": []
   },
   "source": [
    "Now since the data is balanced we can move further."
   ]
  },
  {
   "cell_type": "code",
   "execution_count": 22,
   "id": "616a0baa",
   "metadata": {
    "execution": {
     "iopub.execute_input": "2022-01-20T05:06:42.574935Z",
     "iopub.status.busy": "2022-01-20T05:06:42.573191Z",
     "iopub.status.idle": "2022-01-20T05:06:42.575541Z",
     "shell.execute_reply": "2022-01-20T05:06:42.575986Z",
     "shell.execute_reply.started": "2022-01-20T05:00:38.687617Z"
    },
    "id": "tb4qn0XEVRv3",
    "papermill": {
     "duration": 0.058639,
     "end_time": "2022-01-20T05:06:42.576149",
     "exception": false,
     "start_time": "2022-01-20T05:06:42.517510",
     "status": "completed"
    },
    "tags": []
   },
   "outputs": [],
   "source": [
    "# target Y\n",
    "target_train = train_df[187]\n",
    "target_test = test_data[187]"
   ]
  },
  {
   "cell_type": "code",
   "execution_count": 23,
   "id": "c22e73ef",
   "metadata": {
    "execution": {
     "iopub.execute_input": "2022-01-20T05:06:42.699525Z",
     "iopub.status.busy": "2022-01-20T05:06:42.698056Z",
     "iopub.status.idle": "2022-01-20T05:06:42.702450Z",
     "shell.execute_reply": "2022-01-20T05:06:42.702844Z",
     "shell.execute_reply.started": "2022-01-20T05:00:38.694222Z"
    },
    "id": "BGfZ1T4zlveX",
    "outputId": "067f2a08-7a85-48a2-ecf4-60e0bbf4e115",
    "papermill": {
     "duration": 0.067461,
     "end_time": "2022-01-20T05:06:42.702975",
     "exception": false,
     "start_time": "2022-01-20T05:06:42.635514",
     "status": "completed"
    },
    "tags": []
   },
   "outputs": [
    {
     "data": {
      "text/plain": [
       "0        0\n",
       "1        0\n",
       "2        0\n",
       "3        0\n",
       "4        0\n",
       "        ..\n",
       "21887    4\n",
       "21888    4\n",
       "21889    4\n",
       "21890    4\n",
       "21891    4\n",
       "Name: 187, Length: 21892, dtype: int64"
      ]
     },
     "execution_count": 23,
     "metadata": {},
     "output_type": "execute_result"
    }
   ],
   "source": [
    "target_test"
   ]
  },
  {
   "cell_type": "code",
   "execution_count": 24,
   "id": "9c4c46ac",
   "metadata": {
    "execution": {
     "iopub.execute_input": "2022-01-20T05:06:42.818077Z",
     "iopub.status.busy": "2022-01-20T05:06:42.817568Z",
     "iopub.status.idle": "2022-01-20T05:06:42.822598Z",
     "shell.execute_reply": "2022-01-20T05:06:42.822134Z",
     "shell.execute_reply.started": "2022-01-20T05:00:38.705285Z"
    },
    "id": "NEmmVxQvVU8f",
    "outputId": "99ee684e-ccd2-427a-fa76-58d2162f673f",
    "papermill": {
     "duration": 0.064039,
     "end_time": "2022-01-20T05:06:42.822707",
     "exception": false,
     "start_time": "2022-01-20T05:06:42.758668",
     "status": "completed"
    },
    "tags": []
   },
   "outputs": [
    {
     "data": {
      "text/plain": [
       "array([0, 1, 2, 3, 4])"
      ]
     },
     "execution_count": 24,
     "metadata": {},
     "output_type": "execute_result"
    }
   ],
   "source": [
    "target_train.unique()"
   ]
  },
  {
   "cell_type": "markdown",
   "id": "981ed209",
   "metadata": {
    "id": "YrXiL224VY53",
    "papermill": {
     "duration": 0.051297,
     "end_time": "2022-01-20T05:06:42.925036",
     "exception": false,
     "start_time": "2022-01-20T05:06:42.873739",
     "status": "completed"
    },
    "tags": []
   },
   "source": [
    "This is not good for classification, hence we convert them into categorical one hot encoding."
   ]
  },
  {
   "cell_type": "code",
   "execution_count": 25,
   "id": "8efe8269",
   "metadata": {
    "execution": {
     "iopub.execute_input": "2022-01-20T05:06:43.032806Z",
     "iopub.status.busy": "2022-01-20T05:06:43.031288Z",
     "iopub.status.idle": "2022-01-20T05:06:43.033436Z",
     "shell.execute_reply": "2022-01-20T05:06:43.033837Z",
     "shell.execute_reply.started": "2022-01-20T05:00:38.717151Z"
    },
    "id": "NbcYzhrMVaQB",
    "papermill": {
     "duration": 0.05751,
     "end_time": "2022-01-20T05:06:43.033956",
     "exception": false,
     "start_time": "2022-01-20T05:06:42.976446",
     "status": "completed"
    },
    "tags": []
   },
   "outputs": [],
   "source": [
    "# convert integer values into categorical one hot encoding\n",
    "# Class 0 - [1,0,0,0,0]\n",
    "# Class 1 - [0,1,0,0,0]\n",
    "# Class 2 - [0,0,1,0,0]\n",
    "# Class 3 - [0,0,0,1,0]\n",
    "# Class 4 - [0,0,0,0,1]"
   ]
  },
  {
   "cell_type": "markdown",
   "id": "445d0d48",
   "metadata": {
    "id": "XiuuArzDbL3e",
    "papermill": {
     "duration": 0.051345,
     "end_time": "2022-01-20T05:06:43.137331",
     "exception": false,
     "start_time": "2022-01-20T05:06:43.085986",
     "status": "completed"
    },
    "tags": []
   },
   "source": [
    "A one hot encoding is a representation of categorical variables as binary vectors.\n",
    "\n",
    "This first requires that the categorical values be mapped to integer values.\n",
    "\n",
    "Then, each integer value is represented as a binary vector that is all zero values except the index of the integer, which is marked with a 1."
   ]
  },
  {
   "cell_type": "markdown",
   "id": "07ed7b35",
   "metadata": {
    "id": "nOqC6c_4q1aS",
    "papermill": {
     "duration": 0.051078,
     "end_time": "2022-01-20T05:06:43.239645",
     "exception": false,
     "start_time": "2022-01-20T05:06:43.188567",
     "status": "completed"
    },
    "tags": []
   },
   "source": [
    "to_categorical() - Returns a binary matrix representation of the input. The classes axis is placed last."
   ]
  },
  {
   "cell_type": "code",
   "execution_count": 26,
   "id": "69c14381",
   "metadata": {
    "execution": {
     "iopub.execute_input": "2022-01-20T05:06:43.349217Z",
     "iopub.status.busy": "2022-01-20T05:06:43.347596Z",
     "iopub.status.idle": "2022-01-20T05:06:43.349866Z",
     "shell.execute_reply": "2022-01-20T05:06:43.350287Z",
     "shell.execute_reply.started": "2022-01-20T05:00:38.721667Z"
    },
    "id": "KqyixM6tVcdo",
    "papermill": {
     "duration": 0.059422,
     "end_time": "2022-01-20T05:06:43.350422",
     "exception": false,
     "start_time": "2022-01-20T05:06:43.291000",
     "status": "completed"
    },
    "tags": []
   },
   "outputs": [],
   "source": [
    "from keras.utils.np_utils import to_categorical\n",
    "y_train = to_categorical(target_train)"
   ]
  },
  {
   "cell_type": "code",
   "execution_count": 27,
   "id": "71371159",
   "metadata": {
    "execution": {
     "iopub.execute_input": "2022-01-20T05:06:43.457529Z",
     "iopub.status.busy": "2022-01-20T05:06:43.456863Z",
     "iopub.status.idle": "2022-01-20T05:06:43.459857Z",
     "shell.execute_reply": "2022-01-20T05:06:43.459444Z",
     "shell.execute_reply.started": "2022-01-20T05:00:38.731428Z"
    },
    "id": "zVIorA82VgUP",
    "papermill": {
     "duration": 0.058229,
     "end_time": "2022-01-20T05:06:43.459970",
     "exception": false,
     "start_time": "2022-01-20T05:06:43.401741",
     "status": "completed"
    },
    "tags": []
   },
   "outputs": [],
   "source": [
    "y_test = to_categorical(target_test)"
   ]
  },
  {
   "cell_type": "code",
   "execution_count": 28,
   "id": "7f6377cd",
   "metadata": {
    "execution": {
     "iopub.execute_input": "2022-01-20T05:06:43.622041Z",
     "iopub.status.busy": "2022-01-20T05:06:43.621134Z",
     "iopub.status.idle": "2022-01-20T05:06:43.623025Z",
     "shell.execute_reply": "2022-01-20T05:06:43.623448Z",
     "shell.execute_reply.started": "2022-01-20T05:00:38.738713Z"
    },
    "id": "7XuYi_-8Vsbn",
    "papermill": {
     "duration": 0.112549,
     "end_time": "2022-01-20T05:06:43.623600",
     "exception": false,
     "start_time": "2022-01-20T05:06:43.511051",
     "status": "completed"
    },
    "tags": []
   },
   "outputs": [],
   "source": [
    "X_train = train_df.iloc[:, :-1].values\n",
    "X_test = test_data.iloc[:, :-1].values"
   ]
  },
  {
   "cell_type": "markdown",
   "id": "8a4c9074",
   "metadata": {
    "id": "2toyoSVmpBmu",
    "papermill": {
     "duration": 0.051436,
     "end_time": "2022-01-20T05:06:43.726790",
     "exception": false,
     "start_time": "2022-01-20T05:06:43.675354",
     "status": "completed"
    },
    "tags": []
   },
   "source": [
    "iloc[ : ,   : -1] : Selects all rows and all columns without last.\n",
    "\n",
    "Hence, 100000 rows and 187 columns in the X_train is observed."
   ]
  },
  {
   "cell_type": "code",
   "execution_count": 29,
   "id": "43bc3c0e",
   "metadata": {
    "execution": {
     "iopub.execute_input": "2022-01-20T05:06:43.835092Z",
     "iopub.status.busy": "2022-01-20T05:06:43.834454Z",
     "iopub.status.idle": "2022-01-20T05:06:43.837029Z",
     "shell.execute_reply": "2022-01-20T05:06:43.837444Z",
     "shell.execute_reply.started": "2022-01-20T05:00:38.804957Z"
    },
    "id": "7Q3Vu26AVv4w",
    "outputId": "fc8a95c5-37cc-493b-a439-645a14bb2f6b",
    "papermill": {
     "duration": 0.059195,
     "end_time": "2022-01-20T05:06:43.837575",
     "exception": false,
     "start_time": "2022-01-20T05:06:43.778380",
     "status": "completed"
    },
    "tags": []
   },
   "outputs": [
    {
     "data": {
      "text/plain": [
       "(100000, 187)"
      ]
     },
     "execution_count": 29,
     "metadata": {},
     "output_type": "execute_result"
    }
   ],
   "source": [
    "# this data is in single dimension, 1D (no of samples, features)\n",
    "X_train.shape"
   ]
  },
  {
   "cell_type": "code",
   "execution_count": 30,
   "id": "b25676f3",
   "metadata": {
    "execution": {
     "iopub.execute_input": "2022-01-20T05:06:43.946746Z",
     "iopub.status.busy": "2022-01-20T05:06:43.945989Z",
     "iopub.status.idle": "2022-01-20T05:06:43.948540Z",
     "shell.execute_reply": "2022-01-20T05:06:43.948060Z",
     "shell.execute_reply.started": "2022-01-20T05:00:38.814172Z"
    },
    "id": "FY4cGTNOVz7h",
    "papermill": {
     "duration": 0.058831,
     "end_time": "2022-01-20T05:06:43.948653",
     "exception": false,
     "start_time": "2022-01-20T05:06:43.889822",
     "status": "completed"
    },
    "tags": []
   },
   "outputs": [],
   "source": [
    "# For conv1D dimensionality should be 187X1 where 187 is number of features and 1 = 1D Dimensionality of data.\n",
    "X_train = X_train.reshape(len(X_train),X_train.shape[1],1)\n",
    "X_test = X_test.reshape(len(X_test),X_test.shape[1],1)"
   ]
  },
  {
   "cell_type": "code",
   "execution_count": 31,
   "id": "e81ddeed",
   "metadata": {
    "execution": {
     "iopub.execute_input": "2022-01-20T05:06:44.056462Z",
     "iopub.status.busy": "2022-01-20T05:06:44.055916Z",
     "iopub.status.idle": "2022-01-20T05:06:44.061338Z",
     "shell.execute_reply": "2022-01-20T05:06:44.060902Z",
     "shell.execute_reply.started": "2022-01-20T05:00:38.821484Z"
    },
    "id": "qM_AUdXTV14P",
    "outputId": "41e142b9-6b10-4d91-c18e-e0e9afbd2228",
    "papermill": {
     "duration": 0.061314,
     "end_time": "2022-01-20T05:06:44.061451",
     "exception": false,
     "start_time": "2022-01-20T05:06:44.000137",
     "status": "completed"
    },
    "tags": []
   },
   "outputs": [
    {
     "data": {
      "text/plain": [
       "(100000, 187, 1)"
      ]
     },
     "execution_count": 31,
     "metadata": {},
     "output_type": "execute_result"
    }
   ],
   "source": [
    "X_train.shape"
   ]
  },
  {
   "cell_type": "markdown",
   "id": "cab8d93f",
   "metadata": {
    "id": "RZ3JAbKLV3qI",
    "papermill": {
     "duration": 0.052342,
     "end_time": "2022-01-20T05:06:44.166008",
     "exception": false,
     "start_time": "2022-01-20T05:06:44.113666",
     "status": "completed"
    },
    "tags": []
   },
   "source": [
    "**CNN - Conv1D**"
   ]
  },
  {
   "cell_type": "code",
   "execution_count": 32,
   "id": "ce376114",
   "metadata": {
    "execution": {
     "iopub.execute_input": "2022-01-20T05:06:44.279691Z",
     "iopub.status.busy": "2022-01-20T05:06:44.278899Z",
     "iopub.status.idle": "2022-01-20T05:06:44.281484Z",
     "shell.execute_reply": "2022-01-20T05:06:44.281016Z",
     "shell.execute_reply.started": "2022-01-20T05:00:38.831091Z"
    },
    "id": "NGEoE_FRV-V_",
    "papermill": {
     "duration": 0.063884,
     "end_time": "2022-01-20T05:06:44.281597",
     "exception": false,
     "start_time": "2022-01-20T05:06:44.217713",
     "status": "completed"
    },
    "tags": []
   },
   "outputs": [],
   "source": [
    "def build_model():\n",
    "  model = Sequential()\n",
    "  \n",
    "  # Filters = Units in Dense Total number of Neurons\n",
    "  # Padding = 'same' , zero-padding, Add zero pixels all around input data\n",
    "  model.add(Conv1D(filters = 64, kernel_size = 6, activation='relu', padding = 'same', input_shape = (187, 1))) #we pass individual values hence not 100000,187,1\n",
    "  \n",
    "  # Normalization to avoid overfitting\n",
    "  model.add(BatchNormalization())\n",
    "  \n",
    "  # Pooling =  Downsamples the input representation by taking the maximum value over a spatial window of size pool_size.\n",
    "  # The window is shifted by strides.\n",
    "  # The resulting output shape when using the \"same\" padding option is: output_shape = input_shape / strides\n",
    "  model.add(MaxPooling1D(pool_size=(3), strides = (2), padding = 'same'))\n",
    "\n",
    "  model.add(Conv1D(filters = 64, kernel_size = 6, activation='relu', padding = 'same'))\n",
    "  model.add(BatchNormalization())\n",
    "  model.add(MaxPooling1D(pool_size=(3), strides = (2), padding = 'same'))\n",
    "\n",
    "  model.add(Conv1D( filters = 64, kernel_size = 6, activation='relu', padding = 'same'))\n",
    "  model.add(BatchNormalization())\n",
    "  model.add(MaxPooling1D(pool_size=(3), strides = (2), padding = 'same'))\n",
    "\n",
    "  # Flatten \n",
    "  model.add(Flatten())\n",
    "\n",
    "  # Fully connected layer\n",
    "  # input layer\n",
    "  model.add(Dense(units = 64, activation='relu'))\n",
    "    \n",
    "  # Hidden Layer\n",
    "  model.add(Dense(units = 64, activation='relu'))\n",
    "  \n",
    "  # Output Layer\n",
    "  model.add(Dense(units = 5, activation='softmax'))\n",
    "\n",
    "  # loss = 'categorical_crossentropy'\n",
    "  model.compile(optimizer = 'Adam', loss = 'categorical_crossentropy', metrics = ['accuracy'])\n",
    "  return model"
   ]
  },
  {
   "cell_type": "markdown",
   "id": "1c973383",
   "metadata": {
    "id": "S_nfrZgEeu2R",
    "papermill": {
     "duration": 0.051601,
     "end_time": "2022-01-20T05:06:44.385297",
     "exception": false,
     "start_time": "2022-01-20T05:06:44.333696",
     "status": "completed"
    },
    "tags": []
   },
   "source": [
    "relu = Applies the rectified linear unit activation function,i.e returns the standard ReLU activation: max(x, 0), the element-wise maximum of 0 and the input tensor.\n",
    "\n",
    "softmax = Converts a vector of values to a probability distribution.\n",
    "The elements of the output vector are in range (0, 1) and sum to 1."
   ]
  },
  {
   "cell_type": "markdown",
   "id": "5f8801b1",
   "metadata": {
    "id": "wWjYygPagHhY",
    "papermill": {
     "duration": 0.051373,
     "end_time": "2022-01-20T05:06:44.488627",
     "exception": false,
     "start_time": "2022-01-20T05:06:44.437254",
     "status": "completed"
    },
    "tags": []
   },
   "source": [
    "Adam = Optimizer that implements the Adam algorithm.\n",
    "Adam optimization is a stochastic gradient descent method that is based on adaptive estimation of first-order and second-order moments.\n",
    "\n",
    "Loss = The purpose of loss functions is to compute the quantity that a model should seek to minimize during training.\n",
    "\n",
    "categorical_crossentropy = Computes the crossentropy loss between the labels and predictions.\n",
    "\n",
    "metrics = A function that is used to judge the performance of your model\n",
    "\n",
    "['accuracy'] = Calculates how often predictions equal labels."
   ]
  },
  {
   "cell_type": "code",
   "execution_count": 33,
   "id": "3d7bfbb0",
   "metadata": {
    "execution": {
     "iopub.execute_input": "2022-01-20T05:06:44.597832Z",
     "iopub.status.busy": "2022-01-20T05:06:44.597188Z",
     "iopub.status.idle": "2022-01-20T05:06:47.045002Z",
     "shell.execute_reply": "2022-01-20T05:06:47.045622Z",
     "shell.execute_reply.started": "2022-01-20T05:00:38.846725Z"
    },
    "id": "EiKdVgcmWFVv",
    "papermill": {
     "duration": 2.505601,
     "end_time": "2022-01-20T05:06:47.045823",
     "exception": false,
     "start_time": "2022-01-20T05:06:44.540222",
     "status": "completed"
    },
    "tags": []
   },
   "outputs": [
    {
     "name": "stderr",
     "output_type": "stream",
     "text": [
      "2022-01-20 05:06:44.665510: I tensorflow/stream_executor/cuda/cuda_gpu_executor.cc:937] successful NUMA node read from SysFS had negative value (-1), but there must be at least one NUMA node, so returning NUMA node zero\n",
      "2022-01-20 05:06:44.770970: I tensorflow/stream_executor/cuda/cuda_gpu_executor.cc:937] successful NUMA node read from SysFS had negative value (-1), but there must be at least one NUMA node, so returning NUMA node zero\n",
      "2022-01-20 05:06:44.771655: I tensorflow/stream_executor/cuda/cuda_gpu_executor.cc:937] successful NUMA node read from SysFS had negative value (-1), but there must be at least one NUMA node, so returning NUMA node zero\n",
      "2022-01-20 05:06:44.772817: I tensorflow/core/platform/cpu_feature_guard.cc:142] This TensorFlow binary is optimized with oneAPI Deep Neural Network Library (oneDNN) to use the following CPU instructions in performance-critical operations:  AVX2 AVX512F FMA\n",
      "To enable them in other operations, rebuild TensorFlow with the appropriate compiler flags.\n",
      "2022-01-20 05:06:44.773720: I tensorflow/stream_executor/cuda/cuda_gpu_executor.cc:937] successful NUMA node read from SysFS had negative value (-1), but there must be at least one NUMA node, so returning NUMA node zero\n",
      "2022-01-20 05:06:44.774386: I tensorflow/stream_executor/cuda/cuda_gpu_executor.cc:937] successful NUMA node read from SysFS had negative value (-1), but there must be at least one NUMA node, so returning NUMA node zero\n",
      "2022-01-20 05:06:44.774989: I tensorflow/stream_executor/cuda/cuda_gpu_executor.cc:937] successful NUMA node read from SysFS had negative value (-1), but there must be at least one NUMA node, so returning NUMA node zero\n",
      "2022-01-20 05:06:46.446755: I tensorflow/stream_executor/cuda/cuda_gpu_executor.cc:937] successful NUMA node read from SysFS had negative value (-1), but there must be at least one NUMA node, so returning NUMA node zero\n",
      "2022-01-20 05:06:46.450519: I tensorflow/stream_executor/cuda/cuda_gpu_executor.cc:937] successful NUMA node read from SysFS had negative value (-1), but there must be at least one NUMA node, so returning NUMA node zero\n",
      "2022-01-20 05:06:46.451226: I tensorflow/stream_executor/cuda/cuda_gpu_executor.cc:937] successful NUMA node read from SysFS had negative value (-1), but there must be at least one NUMA node, so returning NUMA node zero\n",
      "2022-01-20 05:06:46.451847: I tensorflow/core/common_runtime/gpu/gpu_device.cc:1510] Created device /job:localhost/replica:0/task:0/device:GPU:0 with 15403 MB memory:  -> device: 0, name: Tesla P100-PCIE-16GB, pci bus id: 0000:00:04.0, compute capability: 6.0\n"
     ]
    }
   ],
   "source": [
    "model = build_model()"
   ]
  },
  {
   "cell_type": "code",
   "execution_count": 34,
   "id": "28086519",
   "metadata": {
    "execution": {
     "iopub.execute_input": "2022-01-20T05:06:47.168601Z",
     "iopub.status.busy": "2022-01-20T05:06:47.165856Z",
     "iopub.status.idle": "2022-01-20T05:06:47.176173Z",
     "shell.execute_reply": "2022-01-20T05:06:47.176579Z",
     "shell.execute_reply.started": "2022-01-20T05:00:41.529459Z"
    },
    "id": "y50U8fPEWJjw",
    "outputId": "c3e0898a-1e26-44a6-c3aa-15b9d11e712a",
    "papermill": {
     "duration": 0.067694,
     "end_time": "2022-01-20T05:06:47.176959",
     "exception": false,
     "start_time": "2022-01-20T05:06:47.109265",
     "status": "completed"
    },
    "tags": []
   },
   "outputs": [
    {
     "name": "stdout",
     "output_type": "stream",
     "text": [
      "Model: \"sequential\"\n",
      "_________________________________________________________________\n",
      "Layer (type)                 Output Shape              Param #   \n",
      "=================================================================\n",
      "conv1d (Conv1D)              (None, 187, 64)           448       \n",
      "_________________________________________________________________\n",
      "batch_normalization (BatchNo (None, 187, 64)           256       \n",
      "_________________________________________________________________\n",
      "max_pooling1d (MaxPooling1D) (None, 94, 64)            0         \n",
      "_________________________________________________________________\n",
      "conv1d_1 (Conv1D)            (None, 94, 64)            24640     \n",
      "_________________________________________________________________\n",
      "batch_normalization_1 (Batch (None, 94, 64)            256       \n",
      "_________________________________________________________________\n",
      "max_pooling1d_1 (MaxPooling1 (None, 47, 64)            0         \n",
      "_________________________________________________________________\n",
      "conv1d_2 (Conv1D)            (None, 47, 64)            24640     \n",
      "_________________________________________________________________\n",
      "batch_normalization_2 (Batch (None, 47, 64)            256       \n",
      "_________________________________________________________________\n",
      "max_pooling1d_2 (MaxPooling1 (None, 24, 64)            0         \n",
      "_________________________________________________________________\n",
      "flatten (Flatten)            (None, 1536)              0         \n",
      "_________________________________________________________________\n",
      "dense (Dense)                (None, 64)                98368     \n",
      "_________________________________________________________________\n",
      "dense_1 (Dense)              (None, 64)                4160      \n",
      "_________________________________________________________________\n",
      "dense_2 (Dense)              (None, 5)                 325       \n",
      "=================================================================\n",
      "Total params: 153,349\n",
      "Trainable params: 152,965\n",
      "Non-trainable params: 384\n",
      "_________________________________________________________________\n"
     ]
    }
   ],
   "source": [
    "# This is for one sample, i.e. one row\n",
    "model.summary()"
   ]
  },
  {
   "cell_type": "code",
   "execution_count": 35,
   "id": "5c1051ac",
   "metadata": {
    "execution": {
     "iopub.execute_input": "2022-01-20T05:06:47.298377Z",
     "iopub.status.busy": "2022-01-20T05:06:47.297679Z",
     "iopub.status.idle": "2022-01-20T05:11:10.642702Z",
     "shell.execute_reply": "2022-01-20T05:11:10.641394Z",
     "shell.execute_reply.started": "2022-01-20T05:00:41.544618Z"
    },
    "id": "0pkQ381kWNxQ",
    "outputId": "9dda79f8-2756-4c85-dde8-20f1e2212087",
    "papermill": {
     "duration": 263.407861,
     "end_time": "2022-01-20T05:11:10.642901",
     "exception": false,
     "start_time": "2022-01-20T05:06:47.235040",
     "status": "completed"
    },
    "tags": []
   },
   "outputs": [
    {
     "name": "stderr",
     "output_type": "stream",
     "text": [
      "2022-01-20 05:06:47.550583: I tensorflow/compiler/mlir/mlir_graph_optimization_pass.cc:185] None of the MLIR Optimization Passes are enabled (registered 2)\n"
     ]
    },
    {
     "name": "stdout",
     "output_type": "stream",
     "text": [
      "Epoch 1/15\n"
     ]
    },
    {
     "name": "stderr",
     "output_type": "stream",
     "text": [
      "2022-01-20 05:06:49.448115: I tensorflow/stream_executor/cuda/cuda_dnn.cc:369] Loaded cuDNN version 8005\n"
     ]
    },
    {
     "name": "stdout",
     "output_type": "stream",
     "text": [
      "3125/3125 [==============================] - 24s 5ms/step - loss: 0.1870 - accuracy: 0.9332 - val_loss: 0.1652 - val_accuracy: 0.9429\n",
      "Epoch 2/15\n",
      "3125/3125 [==============================] - 15s 5ms/step - loss: 0.0737 - accuracy: 0.9745 - val_loss: 0.1423 - val_accuracy: 0.9564\n",
      "Epoch 3/15\n",
      "3125/3125 [==============================] - 15s 5ms/step - loss: 0.0495 - accuracy: 0.9835 - val_loss: 0.1486 - val_accuracy: 0.9568\n",
      "Epoch 4/15\n",
      "3125/3125 [==============================] - 15s 5ms/step - loss: 0.0385 - accuracy: 0.9875 - val_loss: 0.1476 - val_accuracy: 0.9542\n",
      "Epoch 5/15\n",
      "3125/3125 [==============================] - 15s 5ms/step - loss: 0.0302 - accuracy: 0.9903 - val_loss: 0.1507 - val_accuracy: 0.9672\n",
      "Epoch 6/15\n",
      "3125/3125 [==============================] - 17s 5ms/step - loss: 0.0258 - accuracy: 0.9921 - val_loss: 0.1482 - val_accuracy: 0.9624\n",
      "Epoch 7/15\n",
      "3125/3125 [==============================] - 16s 5ms/step - loss: 0.0221 - accuracy: 0.9935 - val_loss: 0.1090 - val_accuracy: 0.9775\n",
      "Epoch 8/15\n",
      "3125/3125 [==============================] - 16s 5ms/step - loss: 0.0185 - accuracy: 0.9943 - val_loss: 0.1236 - val_accuracy: 0.9767\n",
      "Epoch 9/15\n",
      "3125/3125 [==============================] - 15s 5ms/step - loss: 0.0181 - accuracy: 0.9946 - val_loss: 0.1223 - val_accuracy: 0.9800\n",
      "Epoch 10/15\n",
      "3125/3125 [==============================] - 16s 5ms/step - loss: 0.0171 - accuracy: 0.9951 - val_loss: 0.1130 - val_accuracy: 0.9815\n",
      "Epoch 11/15\n",
      "3125/3125 [==============================] - 15s 5ms/step - loss: 0.0128 - accuracy: 0.9964 - val_loss: 0.1359 - val_accuracy: 0.9769\n",
      "Epoch 12/15\n",
      "3125/3125 [==============================] - 17s 5ms/step - loss: 0.0131 - accuracy: 0.9963 - val_loss: 0.1394 - val_accuracy: 0.9797\n",
      "Epoch 13/15\n",
      "3125/3125 [==============================] - 16s 5ms/step - loss: 0.0128 - accuracy: 0.9966 - val_loss: 0.1275 - val_accuracy: 0.9767\n",
      "Epoch 14/15\n",
      "3125/3125 [==============================] - 16s 5ms/step - loss: 0.0116 - accuracy: 0.9967 - val_loss: 0.1494 - val_accuracy: 0.9730\n",
      "Epoch 15/15\n",
      "3125/3125 [==============================] - 16s 5ms/step - loss: 0.0114 - accuracy: 0.9971 - val_loss: 0.1406 - val_accuracy: 0.9733\n"
     ]
    }
   ],
   "source": [
    "history = model.fit(X_train, y_train, epochs = 15, batch_size = 32, validation_data=(X_test, y_test))"
   ]
  },
  {
   "cell_type": "code",
   "execution_count": 36,
   "id": "8dbdc84a",
   "metadata": {
    "execution": {
     "iopub.execute_input": "2022-01-20T05:11:12.913090Z",
     "iopub.status.busy": "2022-01-20T05:11:12.912181Z",
     "iopub.status.idle": "2022-01-20T05:11:15.525182Z",
     "shell.execute_reply": "2022-01-20T05:11:15.524749Z",
     "shell.execute_reply.started": "2022-01-20T05:05:04.904727Z"
    },
    "id": "yfnt1MZcWnP4",
    "outputId": "2e62b7f0-ea13-4889-89b5-c32a22a563e9",
    "papermill": {
     "duration": 3.705873,
     "end_time": "2022-01-20T05:11:15.525346",
     "exception": false,
     "start_time": "2022-01-20T05:11:11.819473",
     "status": "completed"
    },
    "tags": []
   },
   "outputs": [
    {
     "name": "stdout",
     "output_type": "stream",
     "text": [
      "685/685 [==============================] - 2s 3ms/step - loss: 0.1406 - accuracy: 0.9733\n"
     ]
    },
    {
     "data": {
      "text/plain": [
       "[0.1405709832906723, 0.9733235836029053]"
      ]
     },
     "execution_count": 36,
     "metadata": {},
     "output_type": "execute_result"
    }
   ],
   "source": [
    "# evaluate ECG Test Data\n",
    "model.evaluate(X_test, y_test)"
   ]
  },
  {
   "cell_type": "markdown",
   "id": "ed10c034",
   "metadata": {
    "id": "5-AkR4SaY9j5",
    "papermill": {
     "duration": 1.100831,
     "end_time": "2022-01-20T05:11:17.679573",
     "exception": false,
     "start_time": "2022-01-20T05:11:16.578742",
     "status": "completed"
    },
    "tags": []
   },
   "source": [
    "**Accuracy of the model : 0.9795**"
   ]
  },
  {
   "cell_type": "code",
   "execution_count": 37,
   "id": "4f1c0287",
   "metadata": {
    "execution": {
     "iopub.execute_input": "2022-01-20T05:11:19.845462Z",
     "iopub.status.busy": "2022-01-20T05:11:19.844804Z",
     "iopub.status.idle": "2022-01-20T05:11:20.376538Z",
     "shell.execute_reply": "2022-01-20T05:11:20.376993Z",
     "shell.execute_reply.started": "2022-01-20T05:05:07.525929Z"
    },
    "id": "AOWUhNRpWpo_",
    "outputId": "646cbc6d-1d0d-475e-a598-6edff5e2dd53",
    "papermill": {
     "duration": 1.652426,
     "end_time": "2022-01-20T05:11:20.377163",
     "exception": false,
     "start_time": "2022-01-20T05:11:18.724737",
     "status": "completed"
    },
    "tags": []
   },
   "outputs": [
    {
     "data": {
      "text/plain": [
       "<AxesSubplot:>"
      ]
     },
     "execution_count": 37,
     "metadata": {},
     "output_type": "execute_result"
    },
    {
     "data": {
      "image/png": "[encoded data removed]",
      "text/plain": [
       "<Figure size 432x288 with 1 Axes>"
      ]
     },
     "metadata": {},
     "output_type": "display_data"
    },
    {
     "data": {
      "image/png": "[encoded data removed]",
      "text/plain": [
       "<Figure size 432x288 with 1 Axes>"
      ]
     },
     "metadata": {},
     "output_type": "display_data"
    }
   ],
   "source": [
    "# converting hsitory to dataframe\n",
    "pd.DataFrame(history.history)\n",
    "pd.DataFrame(history.history)[['accuracy', 'val_accuracy']].plot()\n",
    "pd.DataFrame(history.history)[['loss', 'val_loss']].plot()"
   ]
  },
  {
   "cell_type": "markdown",
   "id": "9fd52d97",
   "metadata": {
    "id": "caKzbJbfiiG5",
    "papermill": {
     "duration": 1.304976,
     "end_time": "2022-01-20T05:11:22.779890",
     "exception": false,
     "start_time": "2022-01-20T05:11:21.474914",
     "status": "completed"
    },
    "tags": []
   },
   "source": [
    "The test (or testing) accuracy often refers to the validation accuracy, that is, the accuracy you calculate on the data set you do not use for training, but you use (during the training process) for validating (or \"testing\") the generalisation ability of your model .\n",
    "\n",
    "Loss can be seen as a distance between the true values of the problem and the values predicted by the model. Accuracy can be seen as the number of error you made on the data."
   ]
  },
  {
   "cell_type": "code",
   "execution_count": 38,
   "id": "9b45812b",
   "metadata": {
    "execution": {
     "iopub.execute_input": "2022-01-20T05:11:24.888882Z",
     "iopub.status.busy": "2022-01-20T05:11:24.888092Z",
     "iopub.status.idle": "2022-01-20T05:11:26.324076Z",
     "shell.execute_reply": "2022-01-20T05:11:26.323608Z",
     "shell.execute_reply.started": "2022-01-20T05:05:08.058744Z"
    },
    "id": "rv7vjkzOWr_f",
    "papermill": {
     "duration": 2.489741,
     "end_time": "2022-01-20T05:11:26.324207",
     "exception": false,
     "start_time": "2022-01-20T05:11:23.834466",
     "status": "completed"
    },
    "tags": []
   },
   "outputs": [],
   "source": [
    "# Make Prediction\n",
    "predict = model.predict(X_test)"
   ]
  },
  {
   "cell_type": "code",
   "execution_count": 39,
   "id": "d06f171c",
   "metadata": {
    "execution": {
     "iopub.execute_input": "2022-01-20T05:11:28.465400Z",
     "iopub.status.busy": "2022-01-20T05:11:28.464201Z",
     "iopub.status.idle": "2022-01-20T05:11:28.467994Z",
     "shell.execute_reply": "2022-01-20T05:11:28.467540Z",
     "shell.execute_reply.started": "2022-01-20T05:05:09.505733Z"
    },
    "id": "VJT8AyT6WtkY",
    "outputId": "7664c8cd-4eab-45e7-9f06-2fe5576ba7d4",
    "papermill": {
     "duration": 1.081902,
     "end_time": "2022-01-20T05:11:28.468111",
     "exception": false,
     "start_time": "2022-01-20T05:11:27.386209",
     "status": "completed"
    },
    "tags": []
   },
   "outputs": [
    {
     "data": {
      "text/plain": [
       "array([[9.9999952e-01, 5.0486523e-07, 2.9620590e-13, 5.7396157e-11,\n",
       "        2.6883790e-12],\n",
       "       [9.9999940e-01, 1.8073812e-10, 5.9990140e-07, 2.4446146e-12,\n",
       "        2.1169416e-08],\n",
       "       [9.9992645e-01, 7.3140342e-05, 4.1789357e-11, 1.1142086e-10,\n",
       "        3.2630246e-07],\n",
       "       ...,\n",
       "       [2.3179595e-14, 1.3789500e-17, 4.4830852e-14, 2.5148309e-25,\n",
       "        1.0000000e+00],\n",
       "       [4.5994356e-35, 0.0000000e+00, 7.9989040e-36, 0.0000000e+00,\n",
       "        1.0000000e+00],\n",
       "       [0.0000000e+00, 0.0000000e+00, 0.0000000e+00, 0.0000000e+00,\n",
       "        1.0000000e+00]], dtype=float32)"
      ]
     },
     "execution_count": 39,
     "metadata": {},
     "output_type": "execute_result"
    }
   ],
   "source": [
    "# Predicted o/p will be in probability distribution \n",
    "predict"
   ]
  },
  {
   "cell_type": "code",
   "execution_count": 40,
   "id": "62d5c44f",
   "metadata": {
    "execution": {
     "iopub.execute_input": "2022-01-20T05:11:30.647203Z",
     "iopub.status.busy": "2022-01-20T05:11:30.646393Z",
     "iopub.status.idle": "2022-01-20T05:11:30.648453Z",
     "shell.execute_reply": "2022-01-20T05:11:30.648829Z",
     "shell.execute_reply.started": "2022-01-20T05:05:09.514670Z"
    },
    "id": "aQkF_dUbWvgX",
    "papermill": {
     "duration": 1.109891,
     "end_time": "2022-01-20T05:11:30.648963",
     "exception": false,
     "start_time": "2022-01-20T05:11:29.539072",
     "status": "completed"
    },
    "tags": []
   },
   "outputs": [],
   "source": [
    "# distributional probability to integers\n",
    "yhat = np.argmax(predict, axis = 1)"
   ]
  },
  {
   "cell_type": "markdown",
   "id": "e4f84f3e",
   "metadata": {
    "id": "zSoKBm2caSWo",
    "papermill": {
     "duration": 1.323936,
     "end_time": "2022-01-20T05:11:33.507639",
     "exception": false,
     "start_time": "2022-01-20T05:11:32.183703",
     "status": "completed"
    },
    "tags": []
   },
   "source": [
    "**Single Class Prediction**"
   ]
  },
  {
   "cell_type": "code",
   "execution_count": 41,
   "id": "cab3188f",
   "metadata": {
    "execution": {
     "iopub.execute_input": "2022-01-20T05:11:35.647013Z",
     "iopub.status.busy": "2022-01-20T05:11:35.646381Z",
     "iopub.status.idle": "2022-01-20T05:11:36.053177Z",
     "shell.execute_reply": "2022-01-20T05:11:36.052591Z",
     "shell.execute_reply.started": "2022-01-20T05:05:09.527031Z"
    },
    "id": "sCp6QuTLYoPS",
    "outputId": "722faa72-c50b-44a6-e0b2-7fd754082b0b",
    "papermill": {
     "duration": 1.47839,
     "end_time": "2022-01-20T05:11:36.053339",
     "exception": false,
     "start_time": "2022-01-20T05:11:34.574949",
     "status": "completed"
    },
    "tags": []
   },
   "outputs": [
    {
     "name": "stdout",
     "output_type": "stream",
     "text": [
      "4/4 [==============================] - 0s 2ms/step - loss: 5.9605e-08 - accuracy: 1.0000\n",
      "X=[[-0.79415228, 2.10495117]], Predicted=[[-0.79415226  2.1049511 ]]\n"
     ]
    },
    {
     "data": {
      "text/plain": [
       "array([[-0.79415226,  2.1049511 ]], dtype=float32)"
      ]
     },
     "execution_count": 41,
     "metadata": {},
     "output_type": "execute_result"
    }
   ],
   "source": [
    "# example of making a single class prediction\n",
    "from sklearn.datasets import make_blobs\n",
    "# generate 2d classification dataset\n",
    "X, y = make_blobs(n_samples=100, centers=2, n_features=1, random_state=1)\n",
    "# fit final model\n",
    "model = Sequential()\n",
    "model.compile(optimizer = 'Adam', loss = 'categorical_crossentropy', metrics = ['accuracy'])\n",
    "model.fit(X, y)\n",
    "# define one new instance\n",
    "X_new = [[-0.79415228, 2.10495117]]\n",
    "# X_new = X_new.reshape(len(X_new),X_new[1],1)\n",
    "# make a prediction\n",
    "ynew = model.predict(X_new)\n",
    "print(\"X=%s, Predicted=%s\" % (X_new[:], ynew[:]))\n",
    "ynew"
   ]
  },
  {
   "cell_type": "markdown",
   "id": "38660bb4",
   "metadata": {
    "id": "oQ-mVdh_WxZa",
    "papermill": {
     "duration": 1.088962,
     "end_time": "2022-01-20T05:11:38.262329",
     "exception": false,
     "start_time": "2022-01-20T05:11:37.173367",
     "status": "completed"
    },
    "tags": []
   },
   "source": [
    "**Checking the confusion matrix and classification report**"
   ]
  },
  {
   "cell_type": "code",
   "execution_count": 42,
   "id": "4db4b0fc",
   "metadata": {
    "execution": {
     "iopub.execute_input": "2022-01-20T05:11:40.466676Z",
     "iopub.status.busy": "2022-01-20T05:11:40.466031Z",
     "iopub.status.idle": "2022-01-20T05:11:40.524393Z",
     "shell.execute_reply": "2022-01-20T05:11:40.523944Z",
     "shell.execute_reply.started": "2022-01-20T05:05:09.857087Z"
    },
    "id": "AGaK12iAWy-4",
    "papermill": {
     "duration": 1.16162,
     "end_time": "2022-01-20T05:11:40.524521",
     "exception": false,
     "start_time": "2022-01-20T05:11:39.362901",
     "status": "completed"
    },
    "tags": []
   },
   "outputs": [],
   "source": [
    "from sklearn.metrics import classification_report, confusion_matrix\n",
    "cnf_matrix = confusion_matrix(np.argmax(y_test, axis = 1), yhat)\n",
    "np.set_printoptions(precision=2)"
   ]
  },
  {
   "cell_type": "code",
   "execution_count": 43,
   "id": "3a8892a4",
   "metadata": {
    "execution": {
     "iopub.execute_input": "2022-01-20T05:11:42.742009Z",
     "iopub.status.busy": "2022-01-20T05:11:42.741408Z",
     "iopub.status.idle": "2022-01-20T05:11:42.744106Z",
     "shell.execute_reply": "2022-01-20T05:11:42.744525Z",
     "shell.execute_reply.started": "2022-01-20T05:05:09.926386Z"
    },
    "id": "e2fmPq8aqyeX",
    "outputId": "77837ce9-8e07-4140-de23-9bf90f5a4c30",
    "papermill": {
     "duration": 1.107474,
     "end_time": "2022-01-20T05:11:42.744659",
     "exception": false,
     "start_time": "2022-01-20T05:11:41.637185",
     "status": "completed"
    },
    "tags": []
   },
   "outputs": [
    {
     "data": {
      "text/plain": [
       "array([[17690,   181,    93,   112,    42],\n",
       "       [   53,   486,    11,     3,     3],\n",
       "       [   19,     5,  1392,    24,     8],\n",
       "       [    6,     0,    13,   143,     0],\n",
       "       [    6,     0,     4,     1,  1597]])"
      ]
     },
     "execution_count": 43,
     "metadata": {},
     "output_type": "execute_result"
    }
   ],
   "source": [
    "cnf_matrix"
   ]
  },
  {
   "cell_type": "code",
   "execution_count": 44,
   "id": "bb32eff2",
   "metadata": {
    "execution": {
     "iopub.execute_input": "2022-01-20T05:11:45.158082Z",
     "iopub.status.busy": "2022-01-20T05:11:45.157097Z",
     "iopub.status.idle": "2022-01-20T05:11:45.159822Z",
     "shell.execute_reply": "2022-01-20T05:11:45.159331Z",
     "shell.execute_reply.started": "2022-01-20T05:05:09.934672Z"
    },
    "id": "msESh9K_lTfa",
    "papermill": {
     "duration": 1.080232,
     "end_time": "2022-01-20T05:11:45.159945",
     "exception": false,
     "start_time": "2022-01-20T05:11:44.079713",
     "status": "completed"
    },
    "tags": []
   },
   "outputs": [],
   "source": [
    "import itertools\n",
    "def plot_confusion_matrix(cm, classes,\n",
    "                          normalize=False,\n",
    "                          title='Confusion matrix',\n",
    "                          cmap=plt.cm.Blues):\n",
    "    \"\"\"\n",
    "    This function prints and plots the confusion matrix.\n",
    "    Normalization can be applied by setting `normalize=True`.\n",
    "    \"\"\"\n",
    "    if normalize:\n",
    "        cm = cm.astype('float') / cm.sum(axis=1)[:, np.newaxis]\n",
    "        print(\"Normalized confusion matrix\")\n",
    "    else:\n",
    "        print('Confusion matrix, without normalization')\n",
    "\n",
    "    plt.imshow(cm, interpolation='nearest', cmap=cmap)\n",
    "    plt.title(title)\n",
    "    plt.colorbar()\n",
    "    tick_marks = np.arange(len(classes))\n",
    "    plt.xticks(tick_marks, classes, rotation=45)\n",
    "    plt.yticks(tick_marks, classes)\n",
    "\n",
    "    fmt = '.2f' if normalize else 'd'\n",
    "    thresh = cm.max() / 2.\n",
    "    for i, j in itertools.product(range(cm.shape[0]), range(cm.shape[1])):\n",
    "        plt.text(j, i, format(cm[i, j], fmt),\n",
    "                 horizontalalignment=\"center\",\n",
    "                 color=\"white\" if cm[i, j] > thresh else \"black\")\n",
    "\n",
    "    plt.tight_layout()\n",
    "    plt.ylabel('True label')\n",
    "    plt.xlabel('Predicted label')"
   ]
  },
  {
   "cell_type": "code",
   "execution_count": 45,
   "id": "6048f3d5",
   "metadata": {
    "execution": {
     "iopub.execute_input": "2022-01-20T05:11:47.337640Z",
     "iopub.status.busy": "2022-01-20T05:11:47.336535Z",
     "iopub.status.idle": "2022-01-20T05:11:47.668968Z",
     "shell.execute_reply": "2022-01-20T05:11:47.669361Z",
     "shell.execute_reply.started": "2022-01-20T05:05:09.948210Z"
    },
    "id": "zgQsrOH5W1QY",
    "outputId": "42ee00e3-ef39-4920-95c1-c9d1ee1bc01b",
    "papermill": {
     "duration": 1.406139,
     "end_time": "2022-01-20T05:11:47.669508",
     "exception": false,
     "start_time": "2022-01-20T05:11:46.263369",
     "status": "completed"
    },
    "tags": []
   },
   "outputs": [
    {
     "name": "stdout",
     "output_type": "stream",
     "text": [
      "Confusion matrix, without normalization\n"
     ]
    },
    {
     "name": "stderr",
     "output_type": "stream",
     "text": [
      "/opt/conda/lib/python3.7/site-packages/ipykernel_launcher.py:18: MatplotlibDeprecationWarning: Auto-removal of grids by pcolor() and pcolormesh() is deprecated since 3.5 and will be removed two minor releases later; please call grid(False) first.\n"
     ]
    },
    {
     "data": {
      "image/png": "[encoded data removed]",
      "text/plain": [
       "<Figure size 720x720 with 2 Axes>"
      ]
     },
     "metadata": {},
     "output_type": "display_data"
    }
   ],
   "source": [
    "# Plot non-normalized confusion matrix\n",
    "plt.figure(figsize=(10, 10))\n",
    "plot_confusion_matrix(cnf_matrix, classes=['N', 'S', 'V', 'F', 'Q'],\n",
    "                      title='Confusion matrix')\n",
    "plt.show()"
   ]
  },
  {
   "cell_type": "code",
   "execution_count": 46,
   "id": "82133a4e",
   "metadata": {
    "execution": {
     "iopub.execute_input": "2022-01-20T05:11:49.841659Z",
     "iopub.status.busy": "2022-01-20T05:11:49.840848Z",
     "iopub.status.idle": "2022-01-20T05:11:49.862999Z",
     "shell.execute_reply": "2022-01-20T05:11:49.862396Z",
     "shell.execute_reply.started": "2022-01-20T05:05:10.423438Z"
    },
    "id": "voembeNZW7QA",
    "outputId": "4dc7b4e3-181c-4405-99c5-4809cba6aadc",
    "papermill": {
     "duration": 1.107937,
     "end_time": "2022-01-20T05:11:49.863149",
     "exception": false,
     "start_time": "2022-01-20T05:11:48.755212",
     "status": "completed"
    },
    "tags": []
   },
   "outputs": [
    {
     "name": "stdout",
     "output_type": "stream",
     "text": [
      "              precision    recall  f1-score   support\n",
      "\n",
      "           0       1.00      0.98      0.99     18118\n",
      "           1       0.72      0.87      0.79       556\n",
      "           2       0.92      0.96      0.94      1448\n",
      "           3       0.51      0.88      0.64       162\n",
      "           4       0.97      0.99      0.98      1608\n",
      "\n",
      "    accuracy                           0.97     21892\n",
      "   macro avg       0.82      0.94      0.87     21892\n",
      "weighted avg       0.98      0.97      0.97     21892\n",
      "\n"
     ]
    }
   ],
   "source": [
    "print(classification_report(np.argmax(y_test, axis=1), yhat))"
   ]
  },
  {
   "cell_type": "markdown",
   "id": "f331d12d",
   "metadata": {
    "id": "wjqxQh3MMKbd",
    "papermill": {
     "duration": 1.056364,
     "end_time": "2022-01-20T05:11:51.975254",
     "exception": false,
     "start_time": "2022-01-20T05:11:50.918890",
     "status": "completed"
    },
    "tags": []
   },
   "source": [
    "Precision : TP/TP+FP\n",
    "\n",
    "Recall : TP/TP+FN\n",
    "\n",
    "F1 Score : 2 * (Precision*Recall) / (Precision + Recall)\n",
    "\n",
    "Support : Number of elements in each class"
   ]
  }
 ],
 "metadata": {
  "kernelspec": {
   "display_name": "Python 3",
   "language": "python",
   "name": "python3"
  },
  "language_info": {
   "codemirror_mode": {
    "name": "ipython",
    "version": 3
   },
   "file_extension": ".py",
   "mimetype": "text/x-python",
   "name": "python",
   "nbconvert_exporter": "python",
   "pygments_lexer": "ipython3",
   "version": "3.7.12"
  },
  "papermill": {
   "default_parameters": {},
   "duration": 342.024601,
   "end_time": "2022-01-20T05:11:56.322640",
   "environment_variables": {},
   "exception": null,
   "input_path": "__notebook__.ipynb",
   "output_path": "__notebook__.ipynb",
   "parameters": {},
   "start_time": "2022-01-20T05:06:14.298039",
   "version": "2.3.3"
  }
 },
 "nbformat": 4,
 "nbformat_minor": 5
}
